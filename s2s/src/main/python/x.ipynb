{
 "cells": [
  {
   "cell_type": "code",
   "execution_count": 30,
   "id": "2570d8fd-c260-472e-b6bb-bf2cc8ed9721",
   "metadata": {
    "tags": []
   },
   "outputs": [],
   "source": [
    "import pandas as pd"
   ]
  },
  {
   "cell_type": "code",
   "execution_count": 31,
   "id": "d0b818af-6c10-471a-be69-70be106bade0",
   "metadata": {
    "tags": []
   },
   "outputs": [],
   "source": [
    "data = {\"x1\": [i for i in range(5)], \"x2\": [i for i in range(10,15)], \"y\": [2, 0, 1, 0, 1], \"d\": [\"1980-10-20\", \"1980-10-21\", \"1980-10-22\", \"1980-10-23\", \"1980-10-24\"]}"
   ]
  },
  {
   "cell_type": "code",
   "execution_count": 32,
   "id": "d09fd1f8-ebc3-4716-9b2f-3a0af65ff551",
   "metadata": {
    "tags": []
   },
   "outputs": [],
   "source": [
    "df = pd.DataFrame(data)"
   ]
  },
  {
   "cell_type": "code",
   "execution_count": 33,
   "id": "4469f2e1-e1ab-48e1-a67e-481ddbb017a3",
   "metadata": {
    "tags": []
   },
   "outputs": [
    {
     "data": {
      "text/html": [
       "<div>\n",
       "<style scoped>\n",
       "    .dataframe tbody tr th:only-of-type {\n",
       "        vertical-align: middle;\n",
       "    }\n",
       "\n",
       "    .dataframe tbody tr th {\n",
       "        vertical-align: top;\n",
       "    }\n",
       "\n",
       "    .dataframe thead th {\n",
       "        text-align: right;\n",
       "    }\n",
       "</style>\n",
       "<table border=\"1\" class=\"dataframe\">\n",
       "  <thead>\n",
       "    <tr style=\"text-align: right;\">\n",
       "      <th></th>\n",
       "      <th>x1</th>\n",
       "      <th>x2</th>\n",
       "      <th>y</th>\n",
       "      <th>d</th>\n",
       "    </tr>\n",
       "  </thead>\n",
       "  <tbody>\n",
       "    <tr>\n",
       "      <th>0</th>\n",
       "      <td>0</td>\n",
       "      <td>10</td>\n",
       "      <td>2</td>\n",
       "      <td>1980-10-20</td>\n",
       "    </tr>\n",
       "    <tr>\n",
       "      <th>1</th>\n",
       "      <td>1</td>\n",
       "      <td>11</td>\n",
       "      <td>0</td>\n",
       "      <td>1980-10-21</td>\n",
       "    </tr>\n",
       "    <tr>\n",
       "      <th>2</th>\n",
       "      <td>2</td>\n",
       "      <td>12</td>\n",
       "      <td>1</td>\n",
       "      <td>1980-10-22</td>\n",
       "    </tr>\n",
       "    <tr>\n",
       "      <th>3</th>\n",
       "      <td>3</td>\n",
       "      <td>13</td>\n",
       "      <td>0</td>\n",
       "      <td>1980-10-23</td>\n",
       "    </tr>\n",
       "    <tr>\n",
       "      <th>4</th>\n",
       "      <td>4</td>\n",
       "      <td>14</td>\n",
       "      <td>1</td>\n",
       "      <td>1980-10-24</td>\n",
       "    </tr>\n",
       "  </tbody>\n",
       "</table>\n",
       "</div>"
      ],
      "text/plain": [
       "   x1  x2  y           d\n",
       "0   0  10  2  1980-10-20\n",
       "1   1  11  0  1980-10-21\n",
       "2   2  12  1  1980-10-22\n",
       "3   3  13  0  1980-10-23\n",
       "4   4  14  1  1980-10-24"
      ]
     },
     "execution_count": 33,
     "metadata": {},
     "output_type": "execute_result"
    }
   ],
   "source": [
    "df"
   ]
  },
  {
   "cell_type": "code",
   "execution_count": 34,
   "id": "3f0accc4-fb41-4f11-99ea-9c57a4d75378",
   "metadata": {
    "tags": []
   },
   "outputs": [],
   "source": [
    "df['Date'] = pd.to_datetime(df['d'])"
   ]
  },
  {
   "cell_type": "code",
   "execution_count": 35,
   "id": "6dde20dc-bf3f-403d-b027-022d14b0fbbd",
   "metadata": {
    "tags": []
   },
   "outputs": [
    {
     "data": {
      "text/html": [
       "<div>\n",
       "<style scoped>\n",
       "    .dataframe tbody tr th:only-of-type {\n",
       "        vertical-align: middle;\n",
       "    }\n",
       "\n",
       "    .dataframe tbody tr th {\n",
       "        vertical-align: top;\n",
       "    }\n",
       "\n",
       "    .dataframe thead th {\n",
       "        text-align: right;\n",
       "    }\n",
       "</style>\n",
       "<table border=\"1\" class=\"dataframe\">\n",
       "  <thead>\n",
       "    <tr style=\"text-align: right;\">\n",
       "      <th></th>\n",
       "      <th>x1</th>\n",
       "      <th>x2</th>\n",
       "      <th>y</th>\n",
       "      <th>d</th>\n",
       "      <th>Date</th>\n",
       "    </tr>\n",
       "  </thead>\n",
       "  <tbody>\n",
       "    <tr>\n",
       "      <th>0</th>\n",
       "      <td>0</td>\n",
       "      <td>10</td>\n",
       "      <td>2</td>\n",
       "      <td>1980-10-20</td>\n",
       "      <td>1980-10-20</td>\n",
       "    </tr>\n",
       "    <tr>\n",
       "      <th>1</th>\n",
       "      <td>1</td>\n",
       "      <td>11</td>\n",
       "      <td>0</td>\n",
       "      <td>1980-10-21</td>\n",
       "      <td>1980-10-21</td>\n",
       "    </tr>\n",
       "    <tr>\n",
       "      <th>2</th>\n",
       "      <td>2</td>\n",
       "      <td>12</td>\n",
       "      <td>1</td>\n",
       "      <td>1980-10-22</td>\n",
       "      <td>1980-10-22</td>\n",
       "    </tr>\n",
       "    <tr>\n",
       "      <th>3</th>\n",
       "      <td>3</td>\n",
       "      <td>13</td>\n",
       "      <td>0</td>\n",
       "      <td>1980-10-23</td>\n",
       "      <td>1980-10-23</td>\n",
       "    </tr>\n",
       "    <tr>\n",
       "      <th>4</th>\n",
       "      <td>4</td>\n",
       "      <td>14</td>\n",
       "      <td>1</td>\n",
       "      <td>1980-10-24</td>\n",
       "      <td>1980-10-24</td>\n",
       "    </tr>\n",
       "  </tbody>\n",
       "</table>\n",
       "</div>"
      ],
      "text/plain": [
       "   x1  x2  y           d       Date\n",
       "0   0  10  2  1980-10-20 1980-10-20\n",
       "1   1  11  0  1980-10-21 1980-10-21\n",
       "2   2  12  1  1980-10-22 1980-10-22\n",
       "3   3  13  0  1980-10-23 1980-10-23\n",
       "4   4  14  1  1980-10-24 1980-10-24"
      ]
     },
     "execution_count": 35,
     "metadata": {},
     "output_type": "execute_result"
    }
   ],
   "source": [
    "df"
   ]
  },
  {
   "cell_type": "code",
   "execution_count": 36,
   "id": "1e10b87a-78dc-479b-a1e6-eedf7353afcc",
   "metadata": {
    "tags": []
   },
   "outputs": [],
   "source": [
    "from bigdl.chronos.data import TSDataset"
   ]
  },
  {
   "cell_type": "code",
   "execution_count": 37,
   "id": "f5b2f4bf-5ba5-4b76-963a-5c379aa7909f",
   "metadata": {
    "tags": []
   },
   "outputs": [],
   "source": [
    "dataset = TSDataset.from_pandas(df, dt_col='Date', target_col='y', extra_feature_col=[\"x1\", \"x2\"])"
   ]
  },
  {
   "cell_type": "code",
   "execution_count": 38,
   "id": "335c7a55-3c9c-4552-bacd-05f9c51c36cd",
   "metadata": {
    "tags": []
   },
   "outputs": [
    {
     "data": {
      "text/html": [
       "<div>\n",
       "<style scoped>\n",
       "    .dataframe tbody tr th:only-of-type {\n",
       "        vertical-align: middle;\n",
       "    }\n",
       "\n",
       "    .dataframe tbody tr th {\n",
       "        vertical-align: top;\n",
       "    }\n",
       "\n",
       "    .dataframe thead th {\n",
       "        text-align: right;\n",
       "    }\n",
       "</style>\n",
       "<table border=\"1\" class=\"dataframe\">\n",
       "  <thead>\n",
       "    <tr style=\"text-align: right;\">\n",
       "      <th></th>\n",
       "      <th>x1</th>\n",
       "      <th>x2</th>\n",
       "      <th>y</th>\n",
       "      <th>d</th>\n",
       "      <th>Date</th>\n",
       "      <th>id</th>\n",
       "    </tr>\n",
       "  </thead>\n",
       "  <tbody>\n",
       "    <tr>\n",
       "      <th>0</th>\n",
       "      <td>0</td>\n",
       "      <td>10</td>\n",
       "      <td>2</td>\n",
       "      <td>1980-10-20</td>\n",
       "      <td>1980-10-20</td>\n",
       "      <td>0</td>\n",
       "    </tr>\n",
       "    <tr>\n",
       "      <th>1</th>\n",
       "      <td>1</td>\n",
       "      <td>11</td>\n",
       "      <td>0</td>\n",
       "      <td>1980-10-21</td>\n",
       "      <td>1980-10-21</td>\n",
       "      <td>0</td>\n",
       "    </tr>\n",
       "    <tr>\n",
       "      <th>2</th>\n",
       "      <td>2</td>\n",
       "      <td>12</td>\n",
       "      <td>1</td>\n",
       "      <td>1980-10-22</td>\n",
       "      <td>1980-10-22</td>\n",
       "      <td>0</td>\n",
       "    </tr>\n",
       "    <tr>\n",
       "      <th>3</th>\n",
       "      <td>3</td>\n",
       "      <td>13</td>\n",
       "      <td>0</td>\n",
       "      <td>1980-10-23</td>\n",
       "      <td>1980-10-23</td>\n",
       "      <td>0</td>\n",
       "    </tr>\n",
       "    <tr>\n",
       "      <th>4</th>\n",
       "      <td>4</td>\n",
       "      <td>14</td>\n",
       "      <td>1</td>\n",
       "      <td>1980-10-24</td>\n",
       "      <td>1980-10-24</td>\n",
       "      <td>0</td>\n",
       "    </tr>\n",
       "  </tbody>\n",
       "</table>\n",
       "</div>"
      ],
      "text/plain": [
       "   x1  x2  y           d       Date id\n",
       "0   0  10  2  1980-10-20 1980-10-20  0\n",
       "1   1  11  0  1980-10-21 1980-10-21  0\n",
       "2   2  12  1  1980-10-22 1980-10-22  0\n",
       "3   3  13  0  1980-10-23 1980-10-23  0\n",
       "4   4  14  1  1980-10-24 1980-10-24  0"
      ]
     },
     "execution_count": 38,
     "metadata": {},
     "output_type": "execute_result"
    }
   ],
   "source": [
    "dataset.df"
   ]
  },
  {
   "cell_type": "code",
   "execution_count": 39,
   "id": "ee82fc61-7bd2-473f-9fba-8fb095656668",
   "metadata": {
    "tags": []
   },
   "outputs": [],
   "source": [
    "lookback, horizon = 1, 1"
   ]
  },
  {
   "cell_type": "code",
   "execution_count": 40,
   "id": "af41bcf4-8237-4cc5-8543-1e9873ae5c21",
   "metadata": {
    "tags": []
   },
   "outputs": [
    {
     "data": {
      "text/plain": [
       "<bigdl.chronos.data.tsdataset.TSDataset at 0x7fde8130c910>"
      ]
     },
     "execution_count": 40,
     "metadata": {},
     "output_type": "execute_result"
    }
   ],
   "source": [
    "dataset.deduplicate().roll(lookback=lookback, horizon=horizon)"
   ]
  },
  {
   "cell_type": "code",
   "execution_count": 41,
   "id": "ffca68f2-5ac3-4e9a-8ec3-66175212ca3c",
   "metadata": {
    "tags": []
   },
   "outputs": [
    {
     "data": {
      "text/html": [
       "<div>\n",
       "<style scoped>\n",
       "    .dataframe tbody tr th:only-of-type {\n",
       "        vertical-align: middle;\n",
       "    }\n",
       "\n",
       "    .dataframe tbody tr th {\n",
       "        vertical-align: top;\n",
       "    }\n",
       "\n",
       "    .dataframe thead th {\n",
       "        text-align: right;\n",
       "    }\n",
       "</style>\n",
       "<table border=\"1\" class=\"dataframe\">\n",
       "  <thead>\n",
       "    <tr style=\"text-align: right;\">\n",
       "      <th></th>\n",
       "      <th>x1</th>\n",
       "      <th>x2</th>\n",
       "      <th>y</th>\n",
       "      <th>d</th>\n",
       "      <th>Date</th>\n",
       "      <th>id</th>\n",
       "    </tr>\n",
       "  </thead>\n",
       "  <tbody>\n",
       "    <tr>\n",
       "      <th>0</th>\n",
       "      <td>0</td>\n",
       "      <td>10</td>\n",
       "      <td>2</td>\n",
       "      <td>1980-10-20</td>\n",
       "      <td>1980-10-20</td>\n",
       "      <td>0</td>\n",
       "    </tr>\n",
       "    <tr>\n",
       "      <th>1</th>\n",
       "      <td>1</td>\n",
       "      <td>11</td>\n",
       "      <td>0</td>\n",
       "      <td>1980-10-21</td>\n",
       "      <td>1980-10-21</td>\n",
       "      <td>0</td>\n",
       "    </tr>\n",
       "    <tr>\n",
       "      <th>2</th>\n",
       "      <td>2</td>\n",
       "      <td>12</td>\n",
       "      <td>1</td>\n",
       "      <td>1980-10-22</td>\n",
       "      <td>1980-10-22</td>\n",
       "      <td>0</td>\n",
       "    </tr>\n",
       "    <tr>\n",
       "      <th>3</th>\n",
       "      <td>3</td>\n",
       "      <td>13</td>\n",
       "      <td>0</td>\n",
       "      <td>1980-10-23</td>\n",
       "      <td>1980-10-23</td>\n",
       "      <td>0</td>\n",
       "    </tr>\n",
       "    <tr>\n",
       "      <th>4</th>\n",
       "      <td>4</td>\n",
       "      <td>14</td>\n",
       "      <td>1</td>\n",
       "      <td>1980-10-24</td>\n",
       "      <td>1980-10-24</td>\n",
       "      <td>0</td>\n",
       "    </tr>\n",
       "  </tbody>\n",
       "</table>\n",
       "</div>"
      ],
      "text/plain": [
       "   x1  x2  y           d       Date id\n",
       "0   0  10  2  1980-10-20 1980-10-20  0\n",
       "1   1  11  0  1980-10-21 1980-10-21  0\n",
       "2   2  12  1  1980-10-22 1980-10-22  0\n",
       "3   3  13  0  1980-10-23 1980-10-23  0\n",
       "4   4  14  1  1980-10-24 1980-10-24  0"
      ]
     },
     "execution_count": 41,
     "metadata": {},
     "output_type": "execute_result"
    }
   ],
   "source": [
    "dataset.df"
   ]
  },
  {
   "cell_type": "code",
   "execution_count": 42,
   "id": "8b4bed6d-b52d-4ab4-8df7-03a9565fa09f",
   "metadata": {
    "tags": []
   },
   "outputs": [],
   "source": [
    "x, y = dataset.to_numpy()"
   ]
  },
  {
   "cell_type": "code",
   "execution_count": 43,
   "id": "43d853b3-319d-4828-8d3e-6c16de10ca3e",
   "metadata": {
    "tags": []
   },
   "outputs": [
    {
     "data": {
      "text/plain": [
       "array([[[ 2.,  0., 10.]],\n",
       "\n",
       "       [[ 0.,  1., 11.]],\n",
       "\n",
       "       [[ 1.,  2., 12.]],\n",
       "\n",
       "       [[ 0.,  3., 13.]]], dtype=float32)"
      ]
     },
     "execution_count": 43,
     "metadata": {},
     "output_type": "execute_result"
    }
   ],
   "source": [
    "x"
   ]
  },
  {
   "cell_type": "code",
   "execution_count": 44,
   "id": "e5c706f3-bb18-405c-b066-5e63115aac57",
   "metadata": {
    "tags": []
   },
   "outputs": [
    {
     "data": {
      "text/plain": [
       "array([[[0.]],\n",
       "\n",
       "       [[1.]],\n",
       "\n",
       "       [[0.]],\n",
       "\n",
       "       [[1.]]], dtype=float32)"
      ]
     },
     "execution_count": 44,
     "metadata": {},
     "output_type": "execute_result"
    }
   ],
   "source": [
    "y"
   ]
  },
  {
   "cell_type": "code",
   "execution_count": 45,
   "id": "2a159ac4-869f-47df-bc43-43038f61f393",
   "metadata": {
    "tags": []
   },
   "outputs": [],
   "source": [
    "lookback, horizon = 1, 2"
   ]
  },
  {
   "cell_type": "code",
   "execution_count": 46,
   "id": "740d519d-ad73-42ca-86a2-eeb0aa0fe8f2",
   "metadata": {
    "tags": []
   },
   "outputs": [
    {
     "data": {
      "text/plain": [
       "<bigdl.chronos.data.tsdataset.TSDataset at 0x7fde8130c910>"
      ]
     },
     "execution_count": 46,
     "metadata": {},
     "output_type": "execute_result"
    }
   ],
   "source": [
    "dataset.deduplicate().roll(lookback=lookback, horizon=horizon)"
   ]
  },
  {
   "cell_type": "code",
   "execution_count": 47,
   "id": "9ded7a68-96f3-4674-ad94-1fdeb2d4a32a",
   "metadata": {
    "tags": []
   },
   "outputs": [],
   "source": [
    "x, y = dataset.to_numpy()"
   ]
  },
  {
   "cell_type": "code",
   "execution_count": 48,
   "id": "3b6e98e8-0cb8-4bd1-9792-88b14efe6ab2",
   "metadata": {
    "tags": []
   },
   "outputs": [
    {
     "data": {
      "text/plain": [
       "array([[[ 2.,  0., 10.]],\n",
       "\n",
       "       [[ 0.,  1., 11.]],\n",
       "\n",
       "       [[ 1.,  2., 12.]]], dtype=float32)"
      ]
     },
     "execution_count": 48,
     "metadata": {},
     "output_type": "execute_result"
    }
   ],
   "source": [
    "x"
   ]
  },
  {
   "cell_type": "code",
   "execution_count": 49,
   "id": "27106b95-e1f3-4e13-a8eb-e2b81c3fb643",
   "metadata": {
    "tags": []
   },
   "outputs": [
    {
     "data": {
      "text/plain": [
       "array([[[0.],\n",
       "        [1.]],\n",
       "\n",
       "       [[1.],\n",
       "        [0.]],\n",
       "\n",
       "       [[0.],\n",
       "        [1.]]], dtype=float32)"
      ]
     },
     "execution_count": 49,
     "metadata": {},
     "output_type": "execute_result"
    }
   ],
   "source": [
    "y"
   ]
  },
  {
   "cell_type": "code",
   "execution_count": null,
   "id": "d03599c0-98ff-4b92-b55b-217c530b2094",
   "metadata": {},
   "outputs": [],
   "source": []
  }
 ],
 "metadata": {
  "kernelspec": {
   "display_name": "Python 3 (ipykernel)",
   "language": "python",
   "name": "python3"
  },
  "language_info": {
   "codemirror_mode": {
    "name": "ipython",
    "version": 3
   },
   "file_extension": ".py",
   "mimetype": "text/x-python",
   "name": "python",
   "nbconvert_exporter": "python",
   "pygments_lexer": "ipython3",
   "version": "3.7.16"
  }
 },
 "nbformat": 4,
 "nbformat_minor": 5
}
