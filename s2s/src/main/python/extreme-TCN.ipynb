{
 "cells": [
  {
   "cell_type": "markdown",
   "id": "ca9ae2fd-5e9e-44f6-9f8c-2598ffe8f45d",
   "metadata": {},
   "source": [
    "# 0. Read, Inspect, Preprocess and Split Data"
   ]
  },
  {
   "cell_type": "code",
   "execution_count": 448,
   "id": "ad4c9eaa-796f-4b08-9467-de0e214c8154",
   "metadata": {
    "tags": []
   },
   "outputs": [],
   "source": [
    "import pandas as pd"
   ]
  },
  {
   "cell_type": "code",
   "execution_count": 449,
   "id": "897b4e13-1034-48f9-9489-a72eb52970dc",
   "metadata": {},
   "outputs": [],
   "source": [
    "basePath = \"/home/phuonglh/vlp/s2s/dat/\""
   ]
  },
  {
   "cell_type": "code",
   "execution_count": 450,
   "id": "62555638-f485-4c01-8451-dd78d0e3b430",
   "metadata": {
    "tags": []
   },
   "outputs": [],
   "source": [
    "pathY = f\"{basePath}y.80-19.tsv\""
   ]
  },
  {
   "cell_type": "code",
   "execution_count": 451,
   "id": "8fdb1f40-defd-4e03-853b-2385f3c3b6e5",
   "metadata": {
    "tags": []
   },
   "outputs": [
    {
     "name": "stderr",
     "output_type": "stream",
     "text": [
      "/home/phuonglh/miniconda3/envs/BDL/lib/python3.8/site-packages/IPython/core/interactiveshell.py:3508: DtypeWarning: Columns (5,6,7,8,9,11,12,13,14,15,16,17,18,19,20,21,22,23,25,27,29,30,31,33,34,35,36,37,38,39,40,42,44,45,47,48,51,52,54,55,57,58,59,61,63,64,65,66,67,68,69,70,71,72,73,74,75,76,77,78,79,80,82,83,84,85,86,87,88,90,91,92,93,94,96,97,99,100,103,104,105,106,108,110,112,113,114,115,116,117,119,120,121,123,124,125,127,128,129,130,133,135,138,139,140,141,143,144,145,146,147) have mixed types.Specify dtype option on import or set low_memory=False.\n",
      "  exec(code_obj, self.user_global_ns, self.user_ns)\n"
     ]
    }
   ],
   "source": [
    "dfY = pd.read_csv(pathY, delimiter=\"\\t\", header=None)"
   ]
  },
  {
   "cell_type": "code",
   "execution_count": 452,
   "id": "547ab268-cd13-4961-8713-69816422ddaf",
   "metadata": {
    "tags": []
   },
   "outputs": [],
   "source": [
    "# dfY.loc[dfY[3] == '-'] # search for an anomaly line"
   ]
  },
  {
   "cell_type": "code",
   "execution_count": 453,
   "id": "d8d3100d-08d0-47f9-b421-e154c8b0f0fc",
   "metadata": {
    "tags": []
   },
   "outputs": [],
   "source": [
    "dfY['MuongTe'] = pd.to_numeric(dfY.loc[:,3])\n",
    "dfY['Date'] = dfY.loc[:, 0:2].apply(lambda row: '-'.join(row.values.astype(str)), axis=1)\n",
    "dfY['Date'] = pd.to_datetime(dfY['Date'])"
   ]
  },
  {
   "cell_type": "code",
   "execution_count": 454,
   "id": "62deaf69-f108-4c4e-becf-ad0ebd928b2e",
   "metadata": {
    "tags": []
   },
   "outputs": [
    {
     "data": {
      "text/html": [
       "<div>\n",
       "<style scoped>\n",
       "    .dataframe tbody tr th:only-of-type {\n",
       "        vertical-align: middle;\n",
       "    }\n",
       "\n",
       "    .dataframe tbody tr th {\n",
       "        vertical-align: top;\n",
       "    }\n",
       "\n",
       "    .dataframe thead th {\n",
       "        text-align: right;\n",
       "    }\n",
       "</style>\n",
       "<table border=\"1\" class=\"dataframe\">\n",
       "  <thead>\n",
       "    <tr style=\"text-align: right;\">\n",
       "      <th></th>\n",
       "      <th>0</th>\n",
       "      <th>1</th>\n",
       "      <th>2</th>\n",
       "      <th>3</th>\n",
       "      <th>4</th>\n",
       "      <th>5</th>\n",
       "      <th>6</th>\n",
       "      <th>7</th>\n",
       "      <th>8</th>\n",
       "      <th>9</th>\n",
       "      <th>...</th>\n",
       "      <th>141</th>\n",
       "      <th>142</th>\n",
       "      <th>143</th>\n",
       "      <th>144</th>\n",
       "      <th>145</th>\n",
       "      <th>146</th>\n",
       "      <th>147</th>\n",
       "      <th>148</th>\n",
       "      <th>MuongTe</th>\n",
       "      <th>Date</th>\n",
       "    </tr>\n",
       "  </thead>\n",
       "  <tbody>\n",
       "    <tr>\n",
       "      <th>0</th>\n",
       "      <td>1980</td>\n",
       "      <td>1</td>\n",
       "      <td>1</td>\n",
       "      <td>0.0</td>\n",
       "      <td>0.0</td>\n",
       "      <td>0</td>\n",
       "      <td>0.0</td>\n",
       "      <td>0.0</td>\n",
       "      <td>0.1</td>\n",
       "      <td>0</td>\n",
       "      <td>...</td>\n",
       "      <td>0</td>\n",
       "      <td>0.0</td>\n",
       "      <td>0.0</td>\n",
       "      <td>0.0</td>\n",
       "      <td>0.0</td>\n",
       "      <td>0.0</td>\n",
       "      <td>0</td>\n",
       "      <td>0.0</td>\n",
       "      <td>0.0</td>\n",
       "      <td>1980-01-01</td>\n",
       "    </tr>\n",
       "    <tr>\n",
       "      <th>1</th>\n",
       "      <td>1980</td>\n",
       "      <td>1</td>\n",
       "      <td>2</td>\n",
       "      <td>0.0</td>\n",
       "      <td>0.0</td>\n",
       "      <td>0</td>\n",
       "      <td>0.0</td>\n",
       "      <td>0.0</td>\n",
       "      <td>0.2</td>\n",
       "      <td>0</td>\n",
       "      <td>...</td>\n",
       "      <td>0</td>\n",
       "      <td>0.0</td>\n",
       "      <td>0.0</td>\n",
       "      <td>0.0</td>\n",
       "      <td>0.0</td>\n",
       "      <td>0.0</td>\n",
       "      <td>0</td>\n",
       "      <td>0.0</td>\n",
       "      <td>0.0</td>\n",
       "      <td>1980-01-02</td>\n",
       "    </tr>\n",
       "    <tr>\n",
       "      <th>2</th>\n",
       "      <td>1980</td>\n",
       "      <td>1</td>\n",
       "      <td>3</td>\n",
       "      <td>0.0</td>\n",
       "      <td>0.0</td>\n",
       "      <td>0</td>\n",
       "      <td>0.0</td>\n",
       "      <td>0.0</td>\n",
       "      <td>0.1</td>\n",
       "      <td>0</td>\n",
       "      <td>...</td>\n",
       "      <td>0</td>\n",
       "      <td>0.0</td>\n",
       "      <td>0.0</td>\n",
       "      <td>0.0</td>\n",
       "      <td>0.0</td>\n",
       "      <td>0.0</td>\n",
       "      <td>0</td>\n",
       "      <td>0.0</td>\n",
       "      <td>0.0</td>\n",
       "      <td>1980-01-03</td>\n",
       "    </tr>\n",
       "    <tr>\n",
       "      <th>3</th>\n",
       "      <td>1980</td>\n",
       "      <td>1</td>\n",
       "      <td>4</td>\n",
       "      <td>0.0</td>\n",
       "      <td>0.0</td>\n",
       "      <td>0</td>\n",
       "      <td>0.0</td>\n",
       "      <td>0.0</td>\n",
       "      <td>0.2</td>\n",
       "      <td>0</td>\n",
       "      <td>...</td>\n",
       "      <td>0</td>\n",
       "      <td>0.0</td>\n",
       "      <td>0.0</td>\n",
       "      <td>0.0</td>\n",
       "      <td>0.0</td>\n",
       "      <td>0.0</td>\n",
       "      <td>0</td>\n",
       "      <td>0.4</td>\n",
       "      <td>0.0</td>\n",
       "      <td>1980-01-04</td>\n",
       "    </tr>\n",
       "    <tr>\n",
       "      <th>4</th>\n",
       "      <td>1980</td>\n",
       "      <td>1</td>\n",
       "      <td>5</td>\n",
       "      <td>0.0</td>\n",
       "      <td>0.0</td>\n",
       "      <td>0</td>\n",
       "      <td>0.0</td>\n",
       "      <td>0.0</td>\n",
       "      <td>0.0</td>\n",
       "      <td>0</td>\n",
       "      <td>...</td>\n",
       "      <td>0</td>\n",
       "      <td>0.0</td>\n",
       "      <td>0.0</td>\n",
       "      <td>0.0</td>\n",
       "      <td>0.0</td>\n",
       "      <td>0.2</td>\n",
       "      <td>0</td>\n",
       "      <td>0.0</td>\n",
       "      <td>0.0</td>\n",
       "      <td>1980-01-05</td>\n",
       "    </tr>\n",
       "    <tr>\n",
       "      <th>...</th>\n",
       "      <td>...</td>\n",
       "      <td>...</td>\n",
       "      <td>...</td>\n",
       "      <td>...</td>\n",
       "      <td>...</td>\n",
       "      <td>...</td>\n",
       "      <td>...</td>\n",
       "      <td>...</td>\n",
       "      <td>...</td>\n",
       "      <td>...</td>\n",
       "      <td>...</td>\n",
       "      <td>...</td>\n",
       "      <td>...</td>\n",
       "      <td>...</td>\n",
       "      <td>...</td>\n",
       "      <td>...</td>\n",
       "      <td>...</td>\n",
       "      <td>...</td>\n",
       "      <td>...</td>\n",
       "      <td>...</td>\n",
       "      <td>...</td>\n",
       "    </tr>\n",
       "    <tr>\n",
       "      <th>15336</th>\n",
       "      <td>2021</td>\n",
       "      <td>12</td>\n",
       "      <td>27</td>\n",
       "      <td>3.0</td>\n",
       "      <td>1.5</td>\n",
       "      <td>0.0</td>\n",
       "      <td>1.9</td>\n",
       "      <td>0.0</td>\n",
       "      <td>5.2</td>\n",
       "      <td>2.3</td>\n",
       "      <td>...</td>\n",
       "      <td>0.3</td>\n",
       "      <td>0.0</td>\n",
       "      <td>11.5</td>\n",
       "      <td>0.2</td>\n",
       "      <td>0.0</td>\n",
       "      <td>0.0</td>\n",
       "      <td>0.0</td>\n",
       "      <td>0.7</td>\n",
       "      <td>3.0</td>\n",
       "      <td>2021-12-27</td>\n",
       "    </tr>\n",
       "    <tr>\n",
       "      <th>15337</th>\n",
       "      <td>2021</td>\n",
       "      <td>12</td>\n",
       "      <td>28</td>\n",
       "      <td>0.1</td>\n",
       "      <td>0.2</td>\n",
       "      <td>0.0</td>\n",
       "      <td>0.0</td>\n",
       "      <td>0.0</td>\n",
       "      <td>0.0</td>\n",
       "      <td>0.0</td>\n",
       "      <td>...</td>\n",
       "      <td>0.0</td>\n",
       "      <td>4.3</td>\n",
       "      <td>0.5</td>\n",
       "      <td>0.0</td>\n",
       "      <td>4.3</td>\n",
       "      <td>0.0</td>\n",
       "      <td>0.0</td>\n",
       "      <td>0.0</td>\n",
       "      <td>0.1</td>\n",
       "      <td>2021-12-28</td>\n",
       "    </tr>\n",
       "    <tr>\n",
       "      <th>15338</th>\n",
       "      <td>2021</td>\n",
       "      <td>12</td>\n",
       "      <td>29</td>\n",
       "      <td>0.0</td>\n",
       "      <td>0.1</td>\n",
       "      <td>0.1</td>\n",
       "      <td>0.0</td>\n",
       "      <td>0.0</td>\n",
       "      <td>0.0</td>\n",
       "      <td>0.2</td>\n",
       "      <td>...</td>\n",
       "      <td>0.0</td>\n",
       "      <td>2.6</td>\n",
       "      <td>0.0</td>\n",
       "      <td>0.0</td>\n",
       "      <td>0.6</td>\n",
       "      <td>0.5</td>\n",
       "      <td>0.0</td>\n",
       "      <td>0.0</td>\n",
       "      <td>0.0</td>\n",
       "      <td>2021-12-29</td>\n",
       "    </tr>\n",
       "    <tr>\n",
       "      <th>15339</th>\n",
       "      <td>2021</td>\n",
       "      <td>12</td>\n",
       "      <td>30</td>\n",
       "      <td>0.0</td>\n",
       "      <td>0.8</td>\n",
       "      <td>0.1</td>\n",
       "      <td>0.0</td>\n",
       "      <td>0.0</td>\n",
       "      <td>0.0</td>\n",
       "      <td>0.6</td>\n",
       "      <td>...</td>\n",
       "      <td>0.0</td>\n",
       "      <td>0.2</td>\n",
       "      <td>0.0</td>\n",
       "      <td>0.0</td>\n",
       "      <td>0.5</td>\n",
       "      <td>5.0</td>\n",
       "      <td>0.0</td>\n",
       "      <td>0.0</td>\n",
       "      <td>0.0</td>\n",
       "      <td>2021-12-30</td>\n",
       "    </tr>\n",
       "    <tr>\n",
       "      <th>15340</th>\n",
       "      <td>2021</td>\n",
       "      <td>12</td>\n",
       "      <td>31</td>\n",
       "      <td>0.0</td>\n",
       "      <td>0.0</td>\n",
       "      <td>0.0</td>\n",
       "      <td>0.0</td>\n",
       "      <td>0.0</td>\n",
       "      <td>0.0</td>\n",
       "      <td>0.0</td>\n",
       "      <td>...</td>\n",
       "      <td>0.0</td>\n",
       "      <td>0.0</td>\n",
       "      <td>0.0</td>\n",
       "      <td>0.0</td>\n",
       "      <td>0.0</td>\n",
       "      <td>0.0</td>\n",
       "      <td>0.0</td>\n",
       "      <td>0.0</td>\n",
       "      <td>0.0</td>\n",
       "      <td>2021-12-31</td>\n",
       "    </tr>\n",
       "  </tbody>\n",
       "</table>\n",
       "<p>15341 rows × 151 columns</p>\n",
       "</div>"
      ],
      "text/plain": [
       "          0   1   2    3    4    5    6    7    8    9  ...  141  142   143  \\\n",
       "0      1980   1   1  0.0  0.0    0  0.0  0.0  0.1    0  ...    0  0.0   0.0   \n",
       "1      1980   1   2  0.0  0.0    0  0.0  0.0  0.2    0  ...    0  0.0   0.0   \n",
       "2      1980   1   3  0.0  0.0    0  0.0  0.0  0.1    0  ...    0  0.0   0.0   \n",
       "3      1980   1   4  0.0  0.0    0  0.0  0.0  0.2    0  ...    0  0.0   0.0   \n",
       "4      1980   1   5  0.0  0.0    0  0.0  0.0  0.0    0  ...    0  0.0   0.0   \n",
       "...     ...  ..  ..  ...  ...  ...  ...  ...  ...  ...  ...  ...  ...   ...   \n",
       "15336  2021  12  27  3.0  1.5  0.0  1.9  0.0  5.2  2.3  ...  0.3  0.0  11.5   \n",
       "15337  2021  12  28  0.1  0.2  0.0  0.0  0.0  0.0  0.0  ...  0.0  4.3   0.5   \n",
       "15338  2021  12  29  0.0  0.1  0.1  0.0  0.0  0.0  0.2  ...  0.0  2.6   0.0   \n",
       "15339  2021  12  30  0.0  0.8  0.1  0.0  0.0  0.0  0.6  ...  0.0  0.2   0.0   \n",
       "15340  2021  12  31  0.0  0.0  0.0  0.0  0.0  0.0  0.0  ...  0.0  0.0   0.0   \n",
       "\n",
       "       144  145  146  147  148 MuongTe       Date  \n",
       "0      0.0  0.0  0.0    0  0.0     0.0 1980-01-01  \n",
       "1      0.0  0.0  0.0    0  0.0     0.0 1980-01-02  \n",
       "2      0.0  0.0  0.0    0  0.0     0.0 1980-01-03  \n",
       "3      0.0  0.0  0.0    0  0.4     0.0 1980-01-04  \n",
       "4      0.0  0.0  0.2    0  0.0     0.0 1980-01-05  \n",
       "...    ...  ...  ...  ...  ...     ...        ...  \n",
       "15336  0.2  0.0  0.0  0.0  0.7     3.0 2021-12-27  \n",
       "15337  0.0  4.3  0.0  0.0  0.0     0.1 2021-12-28  \n",
       "15338  0.0  0.6  0.5  0.0  0.0     0.0 2021-12-29  \n",
       "15339  0.0  0.5  5.0  0.0  0.0     0.0 2021-12-30  \n",
       "15340  0.0  0.0  0.0  0.0  0.0     0.0 2021-12-31  \n",
       "\n",
       "[15341 rows x 151 columns]"
      ]
     },
     "execution_count": 454,
     "metadata": {},
     "output_type": "execute_result"
    }
   ],
   "source": [
    "dfY"
   ]
  },
  {
   "cell_type": "code",
   "execution_count": 455,
   "id": "6edbbf69-0b9e-4ac8-a2e1-66ff76843e20",
   "metadata": {
    "tags": []
   },
   "outputs": [],
   "source": [
    "import matplotlib.pyplot as plt"
   ]
  },
  {
   "cell_type": "code",
   "execution_count": 456,
   "id": "a6b817d8-b3a7-4f5c-a956-0ecfad535e7b",
   "metadata": {
    "tags": []
   },
   "outputs": [
    {
     "data": {
      "text/plain": [
       "Text(0, 0.5, 'Precipitation')"
      ]
     },
     "execution_count": 456,
     "metadata": {},
     "output_type": "execute_result"
    },
    {
     "data": {
      "image/png": "[encoded data removed]",
      "text/plain": [
       "<Figure size 2400x600 with 1 Axes>"
      ]
     },
     "metadata": {},
     "output_type": "display_data"
    }
   ],
   "source": [
    "plt.figure(figsize=(24,6))\n",
    "plt.plot(dfY['MuongTe'])\n",
    "plt.title('Daily Precipitation at Muong Te Station (40 years)')\n",
    "plt.xlabel('Day')\n",
    "plt.ylabel('Precipitation')"
   ]
  },
  {
   "cell_type": "code",
   "execution_count": 457,
   "id": "0f9bda77-2d28-49ce-a6f8-e4a436742113",
   "metadata": {
    "tags": []
   },
   "outputs": [],
   "source": [
    "def isExtreme(value):\n",
    "    if value >= 0.9:\n",
    "        return 1\n",
    "    else:\n",
    "        return 0"
   ]
  },
  {
   "cell_type": "code",
   "execution_count": 458,
   "id": "d6be52b2-7aa5-4486-878f-cc0563dc93c8",
   "metadata": {
    "tags": []
   },
   "outputs": [],
   "source": [
    "dfRank = dfY['MuongTe'].rank(pct=True)"
   ]
  },
  {
   "cell_type": "code",
   "execution_count": 459,
   "id": "126e2004-ca05-414a-aeed-cb27126fe0a4",
   "metadata": {
    "tags": []
   },
   "outputs": [
    {
     "data": {
      "text/plain": [
       "0        0.281794\n",
       "1        0.281794\n",
       "2        0.281794\n",
       "3        0.281794\n",
       "4        0.281794\n",
       "           ...   \n",
       "15336    0.714491\n",
       "15337    0.573072\n",
       "15338    0.281794\n",
       "15339    0.281794\n",
       "15340    0.281794\n",
       "Name: MuongTe, Length: 15341, dtype: float64"
      ]
     },
     "execution_count": 459,
     "metadata": {},
     "output_type": "execute_result"
    }
   ],
   "source": [
    "dfRank"
   ]
  },
  {
   "cell_type": "code",
   "execution_count": 460,
   "id": "7a474095-c614-47d7-95ec-d12ae233f18a",
   "metadata": {
    "tags": []
   },
   "outputs": [],
   "source": [
    "y = dfRank.apply(lambda v: isExtreme(v))"
   ]
  },
  {
   "cell_type": "code",
   "execution_count": 461,
   "id": "0e209247-8350-44d6-be5e-ebfc0ef84536",
   "metadata": {
    "tags": []
   },
   "outputs": [],
   "source": [
    "dfY['y'] = y"
   ]
  },
  {
   "cell_type": "code",
   "execution_count": 462,
   "id": "47bdf3df-0a85-4f62-bfe6-4c57e5eab374",
   "metadata": {
    "tags": []
   },
   "outputs": [
    {
     "data": {
      "text/html": [
       "<div>\n",
       "<style scoped>\n",
       "    .dataframe tbody tr th:only-of-type {\n",
       "        vertical-align: middle;\n",
       "    }\n",
       "\n",
       "    .dataframe tbody tr th {\n",
       "        vertical-align: top;\n",
       "    }\n",
       "\n",
       "    .dataframe thead th {\n",
       "        text-align: right;\n",
       "    }\n",
       "</style>\n",
       "<table border=\"1\" class=\"dataframe\">\n",
       "  <thead>\n",
       "    <tr style=\"text-align: right;\">\n",
       "      <th></th>\n",
       "      <th>0</th>\n",
       "      <th>1</th>\n",
       "      <th>2</th>\n",
       "      <th>3</th>\n",
       "      <th>4</th>\n",
       "      <th>5</th>\n",
       "      <th>6</th>\n",
       "      <th>7</th>\n",
       "      <th>8</th>\n",
       "      <th>9</th>\n",
       "      <th>...</th>\n",
       "      <th>142</th>\n",
       "      <th>143</th>\n",
       "      <th>144</th>\n",
       "      <th>145</th>\n",
       "      <th>146</th>\n",
       "      <th>147</th>\n",
       "      <th>148</th>\n",
       "      <th>MuongTe</th>\n",
       "      <th>Date</th>\n",
       "      <th>y</th>\n",
       "    </tr>\n",
       "  </thead>\n",
       "  <tbody>\n",
       "    <tr>\n",
       "      <th>0</th>\n",
       "      <td>1980</td>\n",
       "      <td>1</td>\n",
       "      <td>1</td>\n",
       "      <td>0.0</td>\n",
       "      <td>0.0</td>\n",
       "      <td>0</td>\n",
       "      <td>0.0</td>\n",
       "      <td>0.0</td>\n",
       "      <td>0.1</td>\n",
       "      <td>0</td>\n",
       "      <td>...</td>\n",
       "      <td>0.0</td>\n",
       "      <td>0.0</td>\n",
       "      <td>0.0</td>\n",
       "      <td>0.0</td>\n",
       "      <td>0.0</td>\n",
       "      <td>0</td>\n",
       "      <td>0.0</td>\n",
       "      <td>0.0</td>\n",
       "      <td>1980-01-01</td>\n",
       "      <td>0</td>\n",
       "    </tr>\n",
       "    <tr>\n",
       "      <th>1</th>\n",
       "      <td>1980</td>\n",
       "      <td>1</td>\n",
       "      <td>2</td>\n",
       "      <td>0.0</td>\n",
       "      <td>0.0</td>\n",
       "      <td>0</td>\n",
       "      <td>0.0</td>\n",
       "      <td>0.0</td>\n",
       "      <td>0.2</td>\n",
       "      <td>0</td>\n",
       "      <td>...</td>\n",
       "      <td>0.0</td>\n",
       "      <td>0.0</td>\n",
       "      <td>0.0</td>\n",
       "      <td>0.0</td>\n",
       "      <td>0.0</td>\n",
       "      <td>0</td>\n",
       "      <td>0.0</td>\n",
       "      <td>0.0</td>\n",
       "      <td>1980-01-02</td>\n",
       "      <td>0</td>\n",
       "    </tr>\n",
       "    <tr>\n",
       "      <th>2</th>\n",
       "      <td>1980</td>\n",
       "      <td>1</td>\n",
       "      <td>3</td>\n",
       "      <td>0.0</td>\n",
       "      <td>0.0</td>\n",
       "      <td>0</td>\n",
       "      <td>0.0</td>\n",
       "      <td>0.0</td>\n",
       "      <td>0.1</td>\n",
       "      <td>0</td>\n",
       "      <td>...</td>\n",
       "      <td>0.0</td>\n",
       "      <td>0.0</td>\n",
       "      <td>0.0</td>\n",
       "      <td>0.0</td>\n",
       "      <td>0.0</td>\n",
       "      <td>0</td>\n",
       "      <td>0.0</td>\n",
       "      <td>0.0</td>\n",
       "      <td>1980-01-03</td>\n",
       "      <td>0</td>\n",
       "    </tr>\n",
       "    <tr>\n",
       "      <th>3</th>\n",
       "      <td>1980</td>\n",
       "      <td>1</td>\n",
       "      <td>4</td>\n",
       "      <td>0.0</td>\n",
       "      <td>0.0</td>\n",
       "      <td>0</td>\n",
       "      <td>0.0</td>\n",
       "      <td>0.0</td>\n",
       "      <td>0.2</td>\n",
       "      <td>0</td>\n",
       "      <td>...</td>\n",
       "      <td>0.0</td>\n",
       "      <td>0.0</td>\n",
       "      <td>0.0</td>\n",
       "      <td>0.0</td>\n",
       "      <td>0.0</td>\n",
       "      <td>0</td>\n",
       "      <td>0.4</td>\n",
       "      <td>0.0</td>\n",
       "      <td>1980-01-04</td>\n",
       "      <td>0</td>\n",
       "    </tr>\n",
       "    <tr>\n",
       "      <th>4</th>\n",
       "      <td>1980</td>\n",
       "      <td>1</td>\n",
       "      <td>5</td>\n",
       "      <td>0.0</td>\n",
       "      <td>0.0</td>\n",
       "      <td>0</td>\n",
       "      <td>0.0</td>\n",
       "      <td>0.0</td>\n",
       "      <td>0.0</td>\n",
       "      <td>0</td>\n",
       "      <td>...</td>\n",
       "      <td>0.0</td>\n",
       "      <td>0.0</td>\n",
       "      <td>0.0</td>\n",
       "      <td>0.0</td>\n",
       "      <td>0.2</td>\n",
       "      <td>0</td>\n",
       "      <td>0.0</td>\n",
       "      <td>0.0</td>\n",
       "      <td>1980-01-05</td>\n",
       "      <td>0</td>\n",
       "    </tr>\n",
       "    <tr>\n",
       "      <th>...</th>\n",
       "      <td>...</td>\n",
       "      <td>...</td>\n",
       "      <td>...</td>\n",
       "      <td>...</td>\n",
       "      <td>...</td>\n",
       "      <td>...</td>\n",
       "      <td>...</td>\n",
       "      <td>...</td>\n",
       "      <td>...</td>\n",
       "      <td>...</td>\n",
       "      <td>...</td>\n",
       "      <td>...</td>\n",
       "      <td>...</td>\n",
       "      <td>...</td>\n",
       "      <td>...</td>\n",
       "      <td>...</td>\n",
       "      <td>...</td>\n",
       "      <td>...</td>\n",
       "      <td>...</td>\n",
       "      <td>...</td>\n",
       "      <td>...</td>\n",
       "    </tr>\n",
       "    <tr>\n",
       "      <th>15336</th>\n",
       "      <td>2021</td>\n",
       "      <td>12</td>\n",
       "      <td>27</td>\n",
       "      <td>3.0</td>\n",
       "      <td>1.5</td>\n",
       "      <td>0.0</td>\n",
       "      <td>1.9</td>\n",
       "      <td>0.0</td>\n",
       "      <td>5.2</td>\n",
       "      <td>2.3</td>\n",
       "      <td>...</td>\n",
       "      <td>0.0</td>\n",
       "      <td>11.5</td>\n",
       "      <td>0.2</td>\n",
       "      <td>0.0</td>\n",
       "      <td>0.0</td>\n",
       "      <td>0.0</td>\n",
       "      <td>0.7</td>\n",
       "      <td>3.0</td>\n",
       "      <td>2021-12-27</td>\n",
       "      <td>0</td>\n",
       "    </tr>\n",
       "    <tr>\n",
       "      <th>15337</th>\n",
       "      <td>2021</td>\n",
       "      <td>12</td>\n",
       "      <td>28</td>\n",
       "      <td>0.1</td>\n",
       "      <td>0.2</td>\n",
       "      <td>0.0</td>\n",
       "      <td>0.0</td>\n",
       "      <td>0.0</td>\n",
       "      <td>0.0</td>\n",
       "      <td>0.0</td>\n",
       "      <td>...</td>\n",
       "      <td>4.3</td>\n",
       "      <td>0.5</td>\n",
       "      <td>0.0</td>\n",
       "      <td>4.3</td>\n",
       "      <td>0.0</td>\n",
       "      <td>0.0</td>\n",
       "      <td>0.0</td>\n",
       "      <td>0.1</td>\n",
       "      <td>2021-12-28</td>\n",
       "      <td>0</td>\n",
       "    </tr>\n",
       "    <tr>\n",
       "      <th>15338</th>\n",
       "      <td>2021</td>\n",
       "      <td>12</td>\n",
       "      <td>29</td>\n",
       "      <td>0.0</td>\n",
       "      <td>0.1</td>\n",
       "      <td>0.1</td>\n",
       "      <td>0.0</td>\n",
       "      <td>0.0</td>\n",
       "      <td>0.0</td>\n",
       "      <td>0.2</td>\n",
       "      <td>...</td>\n",
       "      <td>2.6</td>\n",
       "      <td>0.0</td>\n",
       "      <td>0.0</td>\n",
       "      <td>0.6</td>\n",
       "      <td>0.5</td>\n",
       "      <td>0.0</td>\n",
       "      <td>0.0</td>\n",
       "      <td>0.0</td>\n",
       "      <td>2021-12-29</td>\n",
       "      <td>0</td>\n",
       "    </tr>\n",
       "    <tr>\n",
       "      <th>15339</th>\n",
       "      <td>2021</td>\n",
       "      <td>12</td>\n",
       "      <td>30</td>\n",
       "      <td>0.0</td>\n",
       "      <td>0.8</td>\n",
       "      <td>0.1</td>\n",
       "      <td>0.0</td>\n",
       "      <td>0.0</td>\n",
       "      <td>0.0</td>\n",
       "      <td>0.6</td>\n",
       "      <td>...</td>\n",
       "      <td>0.2</td>\n",
       "      <td>0.0</td>\n",
       "      <td>0.0</td>\n",
       "      <td>0.5</td>\n",
       "      <td>5.0</td>\n",
       "      <td>0.0</td>\n",
       "      <td>0.0</td>\n",
       "      <td>0.0</td>\n",
       "      <td>2021-12-30</td>\n",
       "      <td>0</td>\n",
       "    </tr>\n",
       "    <tr>\n",
       "      <th>15340</th>\n",
       "      <td>2021</td>\n",
       "      <td>12</td>\n",
       "      <td>31</td>\n",
       "      <td>0.0</td>\n",
       "      <td>0.0</td>\n",
       "      <td>0.0</td>\n",
       "      <td>0.0</td>\n",
       "      <td>0.0</td>\n",
       "      <td>0.0</td>\n",
       "      <td>0.0</td>\n",
       "      <td>...</td>\n",
       "      <td>0.0</td>\n",
       "      <td>0.0</td>\n",
       "      <td>0.0</td>\n",
       "      <td>0.0</td>\n",
       "      <td>0.0</td>\n",
       "      <td>0.0</td>\n",
       "      <td>0.0</td>\n",
       "      <td>0.0</td>\n",
       "      <td>2021-12-31</td>\n",
       "      <td>0</td>\n",
       "    </tr>\n",
       "  </tbody>\n",
       "</table>\n",
       "<p>15341 rows × 152 columns</p>\n",
       "</div>"
      ],
      "text/plain": [
       "          0   1   2    3    4    5    6    7    8    9  ...  142   143  144  \\\n",
       "0      1980   1   1  0.0  0.0    0  0.0  0.0  0.1    0  ...  0.0   0.0  0.0   \n",
       "1      1980   1   2  0.0  0.0    0  0.0  0.0  0.2    0  ...  0.0   0.0  0.0   \n",
       "2      1980   1   3  0.0  0.0    0  0.0  0.0  0.1    0  ...  0.0   0.0  0.0   \n",
       "3      1980   1   4  0.0  0.0    0  0.0  0.0  0.2    0  ...  0.0   0.0  0.0   \n",
       "4      1980   1   5  0.0  0.0    0  0.0  0.0  0.0    0  ...  0.0   0.0  0.0   \n",
       "...     ...  ..  ..  ...  ...  ...  ...  ...  ...  ...  ...  ...   ...  ...   \n",
       "15336  2021  12  27  3.0  1.5  0.0  1.9  0.0  5.2  2.3  ...  0.0  11.5  0.2   \n",
       "15337  2021  12  28  0.1  0.2  0.0  0.0  0.0  0.0  0.0  ...  4.3   0.5  0.0   \n",
       "15338  2021  12  29  0.0  0.1  0.1  0.0  0.0  0.0  0.2  ...  2.6   0.0  0.0   \n",
       "15339  2021  12  30  0.0  0.8  0.1  0.0  0.0  0.0  0.6  ...  0.2   0.0  0.0   \n",
       "15340  2021  12  31  0.0  0.0  0.0  0.0  0.0  0.0  0.0  ...  0.0   0.0  0.0   \n",
       "\n",
       "       145  146  147  148 MuongTe       Date  y  \n",
       "0      0.0  0.0    0  0.0     0.0 1980-01-01  0  \n",
       "1      0.0  0.0    0  0.0     0.0 1980-01-02  0  \n",
       "2      0.0  0.0    0  0.0     0.0 1980-01-03  0  \n",
       "3      0.0  0.0    0  0.4     0.0 1980-01-04  0  \n",
       "4      0.0  0.2    0  0.0     0.0 1980-01-05  0  \n",
       "...    ...  ...  ...  ...     ...        ... ..  \n",
       "15336  0.0  0.0  0.0  0.7     3.0 2021-12-27  0  \n",
       "15337  4.3  0.0  0.0  0.0     0.1 2021-12-28  0  \n",
       "15338  0.6  0.5  0.0  0.0     0.0 2021-12-29  0  \n",
       "15339  0.5  5.0  0.0  0.0     0.0 2021-12-30  0  \n",
       "15340  0.0  0.0  0.0  0.0     0.0 2021-12-31  0  \n",
       "\n",
       "[15341 rows x 152 columns]"
      ]
     },
     "execution_count": 462,
     "metadata": {},
     "output_type": "execute_result"
    }
   ],
   "source": [
    "dfY"
   ]
  },
  {
   "cell_type": "code",
   "execution_count": 463,
   "id": "b865e01b-2886-4497-b425-bfb0d8fc72fd",
   "metadata": {
    "tags": []
   },
   "outputs": [
    {
     "data": {
      "text/plain": [
       "1533"
      ]
     },
     "execution_count": 463,
     "metadata": {},
     "output_type": "execute_result"
    }
   ],
   "source": [
    "sum(y)"
   ]
  },
  {
   "cell_type": "code",
   "execution_count": 464,
   "id": "e4aa891b-f074-4546-b854-7fbdae6ad453",
   "metadata": {
    "tags": []
   },
   "outputs": [],
   "source": [
    "import pandas as pd\n",
    "from bigdl.chronos.data import TSDataset\n",
    "from sklearn.preprocessing import StandardScaler"
   ]
  },
  {
   "cell_type": "code",
   "execution_count": 465,
   "id": "ac077ba2-c339-4cc0-80f8-9b7744e6d90f",
   "metadata": {
    "tags": []
   },
   "outputs": [],
   "source": [
    "featurePaths = [f\"{basePath}{f}.80-19.csv\" for f in [\"geo\", \"hum\", \"slp\", \"ssm\", \"uvw\"]]"
   ]
  },
  {
   "cell_type": "code",
   "execution_count": 466,
   "id": "1f39e7dd-c0dd-4928-89e0-44aaa8f08bb1",
   "metadata": {
    "tags": []
   },
   "outputs": [
    {
     "name": "stdout",
     "output_type": "stream",
     "text": [
      "['/home/phuonglh/vlp/s2s/dat/geo.80-19.csv', '/home/phuonglh/vlp/s2s/dat/hum.80-19.csv', '/home/phuonglh/vlp/s2s/dat/slp.80-19.csv', '/home/phuonglh/vlp/s2s/dat/ssm.80-19.csv', '/home/phuonglh/vlp/s2s/dat/uvw.80-19.csv']\n"
     ]
    }
   ],
   "source": [
    "print(featurePaths)"
   ]
  },
  {
   "cell_type": "code",
   "execution_count": 467,
   "id": "293e2e5a-b092-49e7-8ea7-cdd22a6eaea3",
   "metadata": {
    "tags": []
   },
   "outputs": [],
   "source": [
    "dfs = [pd.read_csv(path) for path in featurePaths]"
   ]
  },
  {
   "cell_type": "code",
   "execution_count": 468,
   "id": "2dfd6f6c-d281-498e-97f8-af5dca35f627",
   "metadata": {
    "tags": []
   },
   "outputs": [],
   "source": [
    "df = pd.concat(dfs, axis=1)"
   ]
  },
  {
   "cell_type": "code",
   "execution_count": 469,
   "id": "a0ee03ce-57c6-4179-9cd2-5fd9a7f76df4",
   "metadata": {
    "tags": []
   },
   "outputs": [
    {
     "data": {
      "text/html": [
       "<div>\n",
       "<style scoped>\n",
       "    .dataframe tbody tr th:only-of-type {\n",
       "        vertical-align: middle;\n",
       "    }\n",
       "\n",
       "    .dataframe tbody tr th {\n",
       "        vertical-align: top;\n",
       "    }\n",
       "\n",
       "    .dataframe thead th {\n",
       "        text-align: right;\n",
       "    }\n",
       "</style>\n",
       "<table border=\"1\" class=\"dataframe\">\n",
       "  <thead>\n",
       "    <tr style=\"text-align: right;\">\n",
       "      <th></th>\n",
       "      <th>H850</th>\n",
       "      <th>H500</th>\n",
       "      <th>HUM1000</th>\n",
       "      <th>HUM0850</th>\n",
       "      <th>HUM0500</th>\n",
       "      <th>SLP</th>\n",
       "      <th>SSM</th>\n",
       "      <th>U850</th>\n",
       "      <th>V850</th>\n",
       "      <th>U200</th>\n",
       "      <th>V200</th>\n",
       "    </tr>\n",
       "  </thead>\n",
       "  <tbody>\n",
       "    <tr>\n",
       "      <th>0</th>\n",
       "      <td>1501.00</td>\n",
       "      <td>5789.00</td>\n",
       "      <td>66.000015</td>\n",
       "      <td>53.000010</td>\n",
       "      <td>19.25</td>\n",
       "      <td>101440.0</td>\n",
       "      <td>0.35680</td>\n",
       "      <td>6.075012</td>\n",
       "      <td>1.625011</td>\n",
       "      <td>44.775005</td>\n",
       "      <td>9.700008</td>\n",
       "    </tr>\n",
       "    <tr>\n",
       "      <th>1</th>\n",
       "      <td>1503.75</td>\n",
       "      <td>5805.00</td>\n",
       "      <td>59.750010</td>\n",
       "      <td>49.500008</td>\n",
       "      <td>16.75</td>\n",
       "      <td>101400.0</td>\n",
       "      <td>0.35710</td>\n",
       "      <td>6.325008</td>\n",
       "      <td>1.000008</td>\n",
       "      <td>35.650005</td>\n",
       "      <td>8.100010</td>\n",
       "    </tr>\n",
       "    <tr>\n",
       "      <th>2</th>\n",
       "      <td>1507.75</td>\n",
       "      <td>5818.00</td>\n",
       "      <td>55.000008</td>\n",
       "      <td>45.750008</td>\n",
       "      <td>10.75</td>\n",
       "      <td>101428.0</td>\n",
       "      <td>0.35710</td>\n",
       "      <td>4.175007</td>\n",
       "      <td>1.475010</td>\n",
       "      <td>28.600006</td>\n",
       "      <td>9.800007</td>\n",
       "    </tr>\n",
       "    <tr>\n",
       "      <th>3</th>\n",
       "      <td>1528.75</td>\n",
       "      <td>5826.75</td>\n",
       "      <td>72.000015</td>\n",
       "      <td>66.250015</td>\n",
       "      <td>17.75</td>\n",
       "      <td>101723.0</td>\n",
       "      <td>0.35630</td>\n",
       "      <td>-2.099991</td>\n",
       "      <td>2.200008</td>\n",
       "      <td>29.150005</td>\n",
       "      <td>16.475010</td>\n",
       "    </tr>\n",
       "    <tr>\n",
       "      <th>4</th>\n",
       "      <td>1514.00</td>\n",
       "      <td>5817.25</td>\n",
       "      <td>73.500015</td>\n",
       "      <td>74.500015</td>\n",
       "      <td>15.50</td>\n",
       "      <td>101555.0</td>\n",
       "      <td>0.35630</td>\n",
       "      <td>1.725010</td>\n",
       "      <td>2.825008</td>\n",
       "      <td>30.200000</td>\n",
       "      <td>18.050010</td>\n",
       "    </tr>\n",
       "    <tr>\n",
       "      <th>...</th>\n",
       "      <td>...</td>\n",
       "      <td>...</td>\n",
       "      <td>...</td>\n",
       "      <td>...</td>\n",
       "      <td>...</td>\n",
       "      <td>...</td>\n",
       "      <td>...</td>\n",
       "      <td>...</td>\n",
       "      <td>...</td>\n",
       "      <td>...</td>\n",
       "      <td>...</td>\n",
       "    </tr>\n",
       "    <tr>\n",
       "      <th>14605</th>\n",
       "      <td>1525.00</td>\n",
       "      <td>5806.00</td>\n",
       "      <td>95.750000</td>\n",
       "      <td>96.250000</td>\n",
       "      <td>68.75</td>\n",
       "      <td>101755.0</td>\n",
       "      <td>0.35100</td>\n",
       "      <td>-2.800000</td>\n",
       "      <td>3.875000</td>\n",
       "      <td>42.700000</td>\n",
       "      <td>26.375000</td>\n",
       "    </tr>\n",
       "    <tr>\n",
       "      <th>14606</th>\n",
       "      <td>1519.25</td>\n",
       "      <td>5795.50</td>\n",
       "      <td>96.500000</td>\n",
       "      <td>96.000000</td>\n",
       "      <td>59.00</td>\n",
       "      <td>101765.0</td>\n",
       "      <td>0.34975</td>\n",
       "      <td>2.250000</td>\n",
       "      <td>5.275001</td>\n",
       "      <td>42.525000</td>\n",
       "      <td>30.525002</td>\n",
       "    </tr>\n",
       "    <tr>\n",
       "      <th>14607</th>\n",
       "      <td>1535.00</td>\n",
       "      <td>5802.50</td>\n",
       "      <td>92.000000</td>\n",
       "      <td>86.750000</td>\n",
       "      <td>35.50</td>\n",
       "      <td>101802.5</td>\n",
       "      <td>0.35200</td>\n",
       "      <td>1.950000</td>\n",
       "      <td>1.400001</td>\n",
       "      <td>36.575000</td>\n",
       "      <td>17.475000</td>\n",
       "    </tr>\n",
       "    <tr>\n",
       "      <th>14608</th>\n",
       "      <td>1557.75</td>\n",
       "      <td>5826.75</td>\n",
       "      <td>90.000000</td>\n",
       "      <td>78.000000</td>\n",
       "      <td>11.50</td>\n",
       "      <td>102050.0</td>\n",
       "      <td>0.35475</td>\n",
       "      <td>-0.824999</td>\n",
       "      <td>1.175002</td>\n",
       "      <td>49.050000</td>\n",
       "      <td>10.825000</td>\n",
       "    </tr>\n",
       "    <tr>\n",
       "      <th>14609</th>\n",
       "      <td>1575.75</td>\n",
       "      <td>5861.50</td>\n",
       "      <td>96.250000</td>\n",
       "      <td>94.750000</td>\n",
       "      <td>15.00</td>\n",
       "      <td>102347.5</td>\n",
       "      <td>0.35625</td>\n",
       "      <td>-3.674999</td>\n",
       "      <td>3.025001</td>\n",
       "      <td>47.325000</td>\n",
       "      <td>21.600000</td>\n",
       "    </tr>\n",
       "  </tbody>\n",
       "</table>\n",
       "<p>14610 rows × 11 columns</p>\n",
       "</div>"
      ],
      "text/plain": [
       "          H850     H500    HUM1000    HUM0850  HUM0500       SLP      SSM  \\\n",
       "0      1501.00  5789.00  66.000015  53.000010    19.25  101440.0  0.35680   \n",
       "1      1503.75  5805.00  59.750010  49.500008    16.75  101400.0  0.35710   \n",
       "2      1507.75  5818.00  55.000008  45.750008    10.75  101428.0  0.35710   \n",
       "3      1528.75  5826.75  72.000015  66.250015    17.75  101723.0  0.35630   \n",
       "4      1514.00  5817.25  73.500015  74.500015    15.50  101555.0  0.35630   \n",
       "...        ...      ...        ...        ...      ...       ...      ...   \n",
       "14605  1525.00  5806.00  95.750000  96.250000    68.75  101755.0  0.35100   \n",
       "14606  1519.25  5795.50  96.500000  96.000000    59.00  101765.0  0.34975   \n",
       "14607  1535.00  5802.50  92.000000  86.750000    35.50  101802.5  0.35200   \n",
       "14608  1557.75  5826.75  90.000000  78.000000    11.50  102050.0  0.35475   \n",
       "14609  1575.75  5861.50  96.250000  94.750000    15.00  102347.5  0.35625   \n",
       "\n",
       "           U850      V850       U200       V200  \n",
       "0      6.075012  1.625011  44.775005   9.700008  \n",
       "1      6.325008  1.000008  35.650005   8.100010  \n",
       "2      4.175007  1.475010  28.600006   9.800007  \n",
       "3     -2.099991  2.200008  29.150005  16.475010  \n",
       "4      1.725010  2.825008  30.200000  18.050010  \n",
       "...         ...       ...        ...        ...  \n",
       "14605 -2.800000  3.875000  42.700000  26.375000  \n",
       "14606  2.250000  5.275001  42.525000  30.525002  \n",
       "14607  1.950000  1.400001  36.575000  17.475000  \n",
       "14608 -0.824999  1.175002  49.050000  10.825000  \n",
       "14609 -3.674999  3.025001  47.325000  21.600000  \n",
       "\n",
       "[14610 rows x 11 columns]"
      ]
     },
     "execution_count": 469,
     "metadata": {},
     "output_type": "execute_result"
    }
   ],
   "source": [
    "df"
   ]
  },
  {
   "cell_type": "code",
   "execution_count": 470,
   "id": "50eb6bf2-f763-4309-b2b6-921c457e975a",
   "metadata": {
    "tags": []
   },
   "outputs": [],
   "source": [
    "df['Date'] = dfY['Date']\n",
    "df['y'] = dfY['y']"
   ]
  },
  {
   "cell_type": "code",
   "execution_count": 471,
   "id": "43da4164-85c2-40f6-ba57-49070d3db342",
   "metadata": {
    "tags": []
   },
   "outputs": [],
   "source": [
    "features = list(df.columns.values)[0:-2] # remove the last two columns which are not the main features ('Date' and 'y')"
   ]
  },
  {
   "cell_type": "code",
   "execution_count": 472,
   "id": "37a86233-2e39-4f97-a838-c080da423df5",
   "metadata": {
    "tags": []
   },
   "outputs": [
    {
     "data": {
      "text/html": [
       "<div>\n",
       "<style scoped>\n",
       "    .dataframe tbody tr th:only-of-type {\n",
       "        vertical-align: middle;\n",
       "    }\n",
       "\n",
       "    .dataframe tbody tr th {\n",
       "        vertical-align: top;\n",
       "    }\n",
       "\n",
       "    .dataframe thead th {\n",
       "        text-align: right;\n",
       "    }\n",
       "</style>\n",
       "<table border=\"1\" class=\"dataframe\">\n",
       "  <thead>\n",
       "    <tr style=\"text-align: right;\">\n",
       "      <th></th>\n",
       "      <th>H850</th>\n",
       "      <th>H500</th>\n",
       "      <th>HUM1000</th>\n",
       "      <th>HUM0850</th>\n",
       "      <th>HUM0500</th>\n",
       "      <th>SLP</th>\n",
       "      <th>SSM</th>\n",
       "      <th>U850</th>\n",
       "      <th>V850</th>\n",
       "      <th>U200</th>\n",
       "      <th>V200</th>\n",
       "      <th>Date</th>\n",
       "      <th>y</th>\n",
       "    </tr>\n",
       "  </thead>\n",
       "  <tbody>\n",
       "    <tr>\n",
       "      <th>0</th>\n",
       "      <td>1501.00</td>\n",
       "      <td>5789.00</td>\n",
       "      <td>66.000015</td>\n",
       "      <td>53.000010</td>\n",
       "      <td>19.25</td>\n",
       "      <td>101440.0</td>\n",
       "      <td>0.35680</td>\n",
       "      <td>6.075012</td>\n",
       "      <td>1.625011</td>\n",
       "      <td>44.775005</td>\n",
       "      <td>9.700008</td>\n",
       "      <td>1980-01-01</td>\n",
       "      <td>0</td>\n",
       "    </tr>\n",
       "    <tr>\n",
       "      <th>1</th>\n",
       "      <td>1503.75</td>\n",
       "      <td>5805.00</td>\n",
       "      <td>59.750010</td>\n",
       "      <td>49.500008</td>\n",
       "      <td>16.75</td>\n",
       "      <td>101400.0</td>\n",
       "      <td>0.35710</td>\n",
       "      <td>6.325008</td>\n",
       "      <td>1.000008</td>\n",
       "      <td>35.650005</td>\n",
       "      <td>8.100010</td>\n",
       "      <td>1980-01-02</td>\n",
       "      <td>0</td>\n",
       "    </tr>\n",
       "    <tr>\n",
       "      <th>2</th>\n",
       "      <td>1507.75</td>\n",
       "      <td>5818.00</td>\n",
       "      <td>55.000008</td>\n",
       "      <td>45.750008</td>\n",
       "      <td>10.75</td>\n",
       "      <td>101428.0</td>\n",
       "      <td>0.35710</td>\n",
       "      <td>4.175007</td>\n",
       "      <td>1.475010</td>\n",
       "      <td>28.600006</td>\n",
       "      <td>9.800007</td>\n",
       "      <td>1980-01-03</td>\n",
       "      <td>0</td>\n",
       "    </tr>\n",
       "    <tr>\n",
       "      <th>3</th>\n",
       "      <td>1528.75</td>\n",
       "      <td>5826.75</td>\n",
       "      <td>72.000015</td>\n",
       "      <td>66.250015</td>\n",
       "      <td>17.75</td>\n",
       "      <td>101723.0</td>\n",
       "      <td>0.35630</td>\n",
       "      <td>-2.099991</td>\n",
       "      <td>2.200008</td>\n",
       "      <td>29.150005</td>\n",
       "      <td>16.475010</td>\n",
       "      <td>1980-01-04</td>\n",
       "      <td>0</td>\n",
       "    </tr>\n",
       "    <tr>\n",
       "      <th>4</th>\n",
       "      <td>1514.00</td>\n",
       "      <td>5817.25</td>\n",
       "      <td>73.500015</td>\n",
       "      <td>74.500015</td>\n",
       "      <td>15.50</td>\n",
       "      <td>101555.0</td>\n",
       "      <td>0.35630</td>\n",
       "      <td>1.725010</td>\n",
       "      <td>2.825008</td>\n",
       "      <td>30.200000</td>\n",
       "      <td>18.050010</td>\n",
       "      <td>1980-01-05</td>\n",
       "      <td>0</td>\n",
       "    </tr>\n",
       "    <tr>\n",
       "      <th>...</th>\n",
       "      <td>...</td>\n",
       "      <td>...</td>\n",
       "      <td>...</td>\n",
       "      <td>...</td>\n",
       "      <td>...</td>\n",
       "      <td>...</td>\n",
       "      <td>...</td>\n",
       "      <td>...</td>\n",
       "      <td>...</td>\n",
       "      <td>...</td>\n",
       "      <td>...</td>\n",
       "      <td>...</td>\n",
       "      <td>...</td>\n",
       "    </tr>\n",
       "    <tr>\n",
       "      <th>14605</th>\n",
       "      <td>1525.00</td>\n",
       "      <td>5806.00</td>\n",
       "      <td>95.750000</td>\n",
       "      <td>96.250000</td>\n",
       "      <td>68.75</td>\n",
       "      <td>101755.0</td>\n",
       "      <td>0.35100</td>\n",
       "      <td>-2.800000</td>\n",
       "      <td>3.875000</td>\n",
       "      <td>42.700000</td>\n",
       "      <td>26.375000</td>\n",
       "      <td>2019-12-27</td>\n",
       "      <td>0</td>\n",
       "    </tr>\n",
       "    <tr>\n",
       "      <th>14606</th>\n",
       "      <td>1519.25</td>\n",
       "      <td>5795.50</td>\n",
       "      <td>96.500000</td>\n",
       "      <td>96.000000</td>\n",
       "      <td>59.00</td>\n",
       "      <td>101765.0</td>\n",
       "      <td>0.34975</td>\n",
       "      <td>2.250000</td>\n",
       "      <td>5.275001</td>\n",
       "      <td>42.525000</td>\n",
       "      <td>30.525002</td>\n",
       "      <td>2019-12-28</td>\n",
       "      <td>1</td>\n",
       "    </tr>\n",
       "    <tr>\n",
       "      <th>14607</th>\n",
       "      <td>1535.00</td>\n",
       "      <td>5802.50</td>\n",
       "      <td>92.000000</td>\n",
       "      <td>86.750000</td>\n",
       "      <td>35.50</td>\n",
       "      <td>101802.5</td>\n",
       "      <td>0.35200</td>\n",
       "      <td>1.950000</td>\n",
       "      <td>1.400001</td>\n",
       "      <td>36.575000</td>\n",
       "      <td>17.475000</td>\n",
       "      <td>2019-12-29</td>\n",
       "      <td>0</td>\n",
       "    </tr>\n",
       "    <tr>\n",
       "      <th>14608</th>\n",
       "      <td>1557.75</td>\n",
       "      <td>5826.75</td>\n",
       "      <td>90.000000</td>\n",
       "      <td>78.000000</td>\n",
       "      <td>11.50</td>\n",
       "      <td>102050.0</td>\n",
       "      <td>0.35475</td>\n",
       "      <td>-0.824999</td>\n",
       "      <td>1.175002</td>\n",
       "      <td>49.050000</td>\n",
       "      <td>10.825000</td>\n",
       "      <td>2019-12-30</td>\n",
       "      <td>0</td>\n",
       "    </tr>\n",
       "    <tr>\n",
       "      <th>14609</th>\n",
       "      <td>1575.75</td>\n",
       "      <td>5861.50</td>\n",
       "      <td>96.250000</td>\n",
       "      <td>94.750000</td>\n",
       "      <td>15.00</td>\n",
       "      <td>102347.5</td>\n",
       "      <td>0.35625</td>\n",
       "      <td>-3.674999</td>\n",
       "      <td>3.025001</td>\n",
       "      <td>47.325000</td>\n",
       "      <td>21.600000</td>\n",
       "      <td>2019-12-31</td>\n",
       "      <td>0</td>\n",
       "    </tr>\n",
       "  </tbody>\n",
       "</table>\n",
       "<p>14610 rows × 13 columns</p>\n",
       "</div>"
      ],
      "text/plain": [
       "          H850     H500    HUM1000    HUM0850  HUM0500       SLP      SSM  \\\n",
       "0      1501.00  5789.00  66.000015  53.000010    19.25  101440.0  0.35680   \n",
       "1      1503.75  5805.00  59.750010  49.500008    16.75  101400.0  0.35710   \n",
       "2      1507.75  5818.00  55.000008  45.750008    10.75  101428.0  0.35710   \n",
       "3      1528.75  5826.75  72.000015  66.250015    17.75  101723.0  0.35630   \n",
       "4      1514.00  5817.25  73.500015  74.500015    15.50  101555.0  0.35630   \n",
       "...        ...      ...        ...        ...      ...       ...      ...   \n",
       "14605  1525.00  5806.00  95.750000  96.250000    68.75  101755.0  0.35100   \n",
       "14606  1519.25  5795.50  96.500000  96.000000    59.00  101765.0  0.34975   \n",
       "14607  1535.00  5802.50  92.000000  86.750000    35.50  101802.5  0.35200   \n",
       "14608  1557.75  5826.75  90.000000  78.000000    11.50  102050.0  0.35475   \n",
       "14609  1575.75  5861.50  96.250000  94.750000    15.00  102347.5  0.35625   \n",
       "\n",
       "           U850      V850       U200       V200       Date  y  \n",
       "0      6.075012  1.625011  44.775005   9.700008 1980-01-01  0  \n",
       "1      6.325008  1.000008  35.650005   8.100010 1980-01-02  0  \n",
       "2      4.175007  1.475010  28.600006   9.800007 1980-01-03  0  \n",
       "3     -2.099991  2.200008  29.150005  16.475010 1980-01-04  0  \n",
       "4      1.725010  2.825008  30.200000  18.050010 1980-01-05  0  \n",
       "...         ...       ...        ...        ...        ... ..  \n",
       "14605 -2.800000  3.875000  42.700000  26.375000 2019-12-27  0  \n",
       "14606  2.250000  5.275001  42.525000  30.525002 2019-12-28  1  \n",
       "14607  1.950000  1.400001  36.575000  17.475000 2019-12-29  0  \n",
       "14608 -0.824999  1.175002  49.050000  10.825000 2019-12-30  0  \n",
       "14609 -3.674999  3.025001  47.325000  21.600000 2019-12-31  0  \n",
       "\n",
       "[14610 rows x 13 columns]"
      ]
     },
     "execution_count": 472,
     "metadata": {},
     "output_type": "execute_result"
    }
   ],
   "source": [
    "df"
   ]
  },
  {
   "cell_type": "code",
   "execution_count": 473,
   "id": "a0fa730c-395a-4439-8e48-46f86c9cb28b",
   "metadata": {
    "tags": []
   },
   "outputs": [],
   "source": [
    "train, valid, test = TSDataset.from_pandas(df, dt_col='Date', target_col='y', extra_feature_col=features, with_split=True, val_ratio=0.1, test_ratio=0.1)"
   ]
  },
  {
   "cell_type": "code",
   "execution_count": 474,
   "id": "7e0c4bd8-8c65-49c0-8a87-26cb311bae40",
   "metadata": {
    "tags": []
   },
   "outputs": [
    {
     "data": {
      "text/html": [
       "<div>\n",
       "<style scoped>\n",
       "    .dataframe tbody tr th:only-of-type {\n",
       "        vertical-align: middle;\n",
       "    }\n",
       "\n",
       "    .dataframe tbody tr th {\n",
       "        vertical-align: top;\n",
       "    }\n",
       "\n",
       "    .dataframe thead th {\n",
       "        text-align: right;\n",
       "    }\n",
       "</style>\n",
       "<table border=\"1\" class=\"dataframe\">\n",
       "  <thead>\n",
       "    <tr style=\"text-align: right;\">\n",
       "      <th></th>\n",
       "      <th>H850</th>\n",
       "      <th>H500</th>\n",
       "      <th>HUM1000</th>\n",
       "      <th>HUM0850</th>\n",
       "      <th>HUM0500</th>\n",
       "      <th>SLP</th>\n",
       "      <th>SSM</th>\n",
       "      <th>U850</th>\n",
       "      <th>V850</th>\n",
       "      <th>U200</th>\n",
       "      <th>V200</th>\n",
       "      <th>Date</th>\n",
       "      <th>y</th>\n",
       "      <th>id</th>\n",
       "    </tr>\n",
       "  </thead>\n",
       "  <tbody>\n",
       "    <tr>\n",
       "      <th>11688</th>\n",
       "      <td>1521.00</td>\n",
       "      <td>5863.25</td>\n",
       "      <td>83.250015</td>\n",
       "      <td>87.500015</td>\n",
       "      <td>28.750004</td>\n",
       "      <td>101705.0</td>\n",
       "      <td>0.35800</td>\n",
       "      <td>-0.049988</td>\n",
       "      <td>3.575008</td>\n",
       "      <td>21.300014</td>\n",
       "      <td>1.600010</td>\n",
       "      <td>2012-01-01</td>\n",
       "      <td>0</td>\n",
       "      <td>0</td>\n",
       "    </tr>\n",
       "    <tr>\n",
       "      <th>11689</th>\n",
       "      <td>1504.50</td>\n",
       "      <td>5835.50</td>\n",
       "      <td>84.250015</td>\n",
       "      <td>88.000015</td>\n",
       "      <td>28.250000</td>\n",
       "      <td>101453.0</td>\n",
       "      <td>0.35750</td>\n",
       "      <td>2.100010</td>\n",
       "      <td>3.875011</td>\n",
       "      <td>27.425010</td>\n",
       "      <td>11.950008</td>\n",
       "      <td>2012-01-02</td>\n",
       "      <td>0</td>\n",
       "      <td>0</td>\n",
       "    </tr>\n",
       "    <tr>\n",
       "      <th>11690</th>\n",
       "      <td>1510.50</td>\n",
       "      <td>5804.75</td>\n",
       "      <td>92.250015</td>\n",
       "      <td>93.000015</td>\n",
       "      <td>50.500010</td>\n",
       "      <td>101418.0</td>\n",
       "      <td>0.35650</td>\n",
       "      <td>0.350010</td>\n",
       "      <td>3.700012</td>\n",
       "      <td>41.775005</td>\n",
       "      <td>23.400010</td>\n",
       "      <td>2012-01-03</td>\n",
       "      <td>0</td>\n",
       "      <td>0</td>\n",
       "    </tr>\n",
       "    <tr>\n",
       "      <th>11691</th>\n",
       "      <td>1523.75</td>\n",
       "      <td>5786.25</td>\n",
       "      <td>98.000015</td>\n",
       "      <td>99.000015</td>\n",
       "      <td>36.250004</td>\n",
       "      <td>101810.0</td>\n",
       "      <td>0.35730</td>\n",
       "      <td>-0.974991</td>\n",
       "      <td>3.150009</td>\n",
       "      <td>52.250008</td>\n",
       "      <td>16.550010</td>\n",
       "      <td>2012-01-04</td>\n",
       "      <td>0</td>\n",
       "      <td>0</td>\n",
       "    </tr>\n",
       "    <tr>\n",
       "      <th>11692</th>\n",
       "      <td>1514.75</td>\n",
       "      <td>5787.75</td>\n",
       "      <td>96.250015</td>\n",
       "      <td>98.250015</td>\n",
       "      <td>12.000000</td>\n",
       "      <td>101750.0</td>\n",
       "      <td>0.35750</td>\n",
       "      <td>2.975010</td>\n",
       "      <td>4.275009</td>\n",
       "      <td>48.725006</td>\n",
       "      <td>11.750011</td>\n",
       "      <td>2012-01-05</td>\n",
       "      <td>0</td>\n",
       "      <td>0</td>\n",
       "    </tr>\n",
       "    <tr>\n",
       "      <th>...</th>\n",
       "      <td>...</td>\n",
       "      <td>...</td>\n",
       "      <td>...</td>\n",
       "      <td>...</td>\n",
       "      <td>...</td>\n",
       "      <td>...</td>\n",
       "      <td>...</td>\n",
       "      <td>...</td>\n",
       "      <td>...</td>\n",
       "      <td>...</td>\n",
       "      <td>...</td>\n",
       "      <td>...</td>\n",
       "      <td>...</td>\n",
       "      <td>...</td>\n",
       "    </tr>\n",
       "    <tr>\n",
       "      <th>13144</th>\n",
       "      <td>1544.00</td>\n",
       "      <td>5852.25</td>\n",
       "      <td>96.750000</td>\n",
       "      <td>96.750000</td>\n",
       "      <td>11.250000</td>\n",
       "      <td>101937.5</td>\n",
       "      <td>0.35625</td>\n",
       "      <td>2.175001</td>\n",
       "      <td>2.600002</td>\n",
       "      <td>45.525000</td>\n",
       "      <td>-6.575000</td>\n",
       "      <td>2015-12-27</td>\n",
       "      <td>0</td>\n",
       "      <td>0</td>\n",
       "    </tr>\n",
       "    <tr>\n",
       "      <th>13145</th>\n",
       "      <td>1552.25</td>\n",
       "      <td>5861.75</td>\n",
       "      <td>96.250000</td>\n",
       "      <td>96.250000</td>\n",
       "      <td>10.250000</td>\n",
       "      <td>102015.0</td>\n",
       "      <td>0.35700</td>\n",
       "      <td>0.200002</td>\n",
       "      <td>5.000000</td>\n",
       "      <td>41.400000</td>\n",
       "      <td>-15.325000</td>\n",
       "      <td>2015-12-28</td>\n",
       "      <td>0</td>\n",
       "      <td>0</td>\n",
       "    </tr>\n",
       "    <tr>\n",
       "      <th>13146</th>\n",
       "      <td>1553.00</td>\n",
       "      <td>5846.75</td>\n",
       "      <td>96.250000</td>\n",
       "      <td>95.750000</td>\n",
       "      <td>8.750000</td>\n",
       "      <td>102050.0</td>\n",
       "      <td>0.35700</td>\n",
       "      <td>-1.774998</td>\n",
       "      <td>3.000001</td>\n",
       "      <td>41.075000</td>\n",
       "      <td>-6.475000</td>\n",
       "      <td>2015-12-29</td>\n",
       "      <td>0</td>\n",
       "      <td>0</td>\n",
       "    </tr>\n",
       "    <tr>\n",
       "      <th>13147</th>\n",
       "      <td>1557.75</td>\n",
       "      <td>5851.25</td>\n",
       "      <td>95.250000</td>\n",
       "      <td>96.000000</td>\n",
       "      <td>5.000000</td>\n",
       "      <td>102185.0</td>\n",
       "      <td>0.35675</td>\n",
       "      <td>-2.774999</td>\n",
       "      <td>2.450002</td>\n",
       "      <td>41.725000</td>\n",
       "      <td>8.500000</td>\n",
       "      <td>2015-12-30</td>\n",
       "      <td>0</td>\n",
       "      <td>0</td>\n",
       "    </tr>\n",
       "    <tr>\n",
       "      <th>13148</th>\n",
       "      <td>1567.25</td>\n",
       "      <td>5863.75</td>\n",
       "      <td>95.750000</td>\n",
       "      <td>96.750000</td>\n",
       "      <td>10.250000</td>\n",
       "      <td>102390.0</td>\n",
       "      <td>0.35350</td>\n",
       "      <td>-3.149998</td>\n",
       "      <td>3.675000</td>\n",
       "      <td>40.625000</td>\n",
       "      <td>19.100000</td>\n",
       "      <td>2015-12-31</td>\n",
       "      <td>0</td>\n",
       "      <td>0</td>\n",
       "    </tr>\n",
       "  </tbody>\n",
       "</table>\n",
       "<p>1461 rows × 14 columns</p>\n",
       "</div>"
      ],
      "text/plain": [
       "          H850     H500    HUM1000    HUM0850    HUM0500       SLP      SSM  \\\n",
       "11688  1521.00  5863.25  83.250015  87.500015  28.750004  101705.0  0.35800   \n",
       "11689  1504.50  5835.50  84.250015  88.000015  28.250000  101453.0  0.35750   \n",
       "11690  1510.50  5804.75  92.250015  93.000015  50.500010  101418.0  0.35650   \n",
       "11691  1523.75  5786.25  98.000015  99.000015  36.250004  101810.0  0.35730   \n",
       "11692  1514.75  5787.75  96.250015  98.250015  12.000000  101750.0  0.35750   \n",
       "...        ...      ...        ...        ...        ...       ...      ...   \n",
       "13144  1544.00  5852.25  96.750000  96.750000  11.250000  101937.5  0.35625   \n",
       "13145  1552.25  5861.75  96.250000  96.250000  10.250000  102015.0  0.35700   \n",
       "13146  1553.00  5846.75  96.250000  95.750000   8.750000  102050.0  0.35700   \n",
       "13147  1557.75  5851.25  95.250000  96.000000   5.000000  102185.0  0.35675   \n",
       "13148  1567.25  5863.75  95.750000  96.750000  10.250000  102390.0  0.35350   \n",
       "\n",
       "           U850      V850       U200       V200       Date  y id  \n",
       "11688 -0.049988  3.575008  21.300014   1.600010 2012-01-01  0  0  \n",
       "11689  2.100010  3.875011  27.425010  11.950008 2012-01-02  0  0  \n",
       "11690  0.350010  3.700012  41.775005  23.400010 2012-01-03  0  0  \n",
       "11691 -0.974991  3.150009  52.250008  16.550010 2012-01-04  0  0  \n",
       "11692  2.975010  4.275009  48.725006  11.750011 2012-01-05  0  0  \n",
       "...         ...       ...        ...        ...        ... .. ..  \n",
       "13144  2.175001  2.600002  45.525000  -6.575000 2015-12-27  0  0  \n",
       "13145  0.200002  5.000000  41.400000 -15.325000 2015-12-28  0  0  \n",
       "13146 -1.774998  3.000001  41.075000  -6.475000 2015-12-29  0  0  \n",
       "13147 -2.774999  2.450002  41.725000   8.500000 2015-12-30  0  0  \n",
       "13148 -3.149998  3.675000  40.625000  19.100000 2015-12-31  0  0  \n",
       "\n",
       "[1461 rows x 14 columns]"
      ]
     },
     "execution_count": 474,
     "metadata": {},
     "output_type": "execute_result"
    }
   ],
   "source": [
    "valid.df"
   ]
  },
  {
   "cell_type": "markdown",
   "id": "976280bc-c9ca-4700-bf72-2f2e8341dc28",
   "metadata": {},
   "source": [
    "# 1. TCN Forecast"
   ]
  },
  {
   "cell_type": "code",
   "execution_count": 475,
   "id": "ab278680-92f3-47dc-ba3f-870fc02d53f0",
   "metadata": {
    "tags": []
   },
   "outputs": [],
   "source": [
    "lookback, horizon = 7, 49"
   ]
  },
  {
   "cell_type": "code",
   "execution_count": 476,
   "id": "44e11c03-2000-4c0f-aa12-a77f5125d860",
   "metadata": {
    "tags": []
   },
   "outputs": [],
   "source": [
    "scaler = StandardScaler()\n",
    "for data in [train, valid, test]:\n",
    "    data.deduplicate() \\\n",
    "        .impute() \\\n",
    "        .gen_dt_feature() \\\n",
    "        .scale(scaler, fit=(data is train)) \\\n",
    "        .roll(lookback=lookback, horizon=horizon)"
   ]
  },
  {
   "cell_type": "code",
   "execution_count": 477,
   "id": "be3b1e49-b742-4698-8ef0-85773b0d5f68",
   "metadata": {
    "tags": []
   },
   "outputs": [
    {
     "data": {
      "text/plain": [
       "((11633, 7, 19), (11633, 49, 1))"
      ]
     },
     "execution_count": 477,
     "metadata": {},
     "output_type": "execute_result"
    }
   ],
   "source": [
    "X, y = train.to_numpy()\n",
    "X.shape, y.shape"
   ]
  },
  {
   "cell_type": "code",
   "execution_count": 478,
   "id": "14ae9e89-e7ab-4fd3-b404-1685b759e8b2",
   "metadata": {
    "tags": []
   },
   "outputs": [],
   "source": [
    "from bigdl.chronos.forecaster.tcn_forecaster import TCNForecaster"
   ]
  },
  {
   "cell_type": "code",
   "execution_count": 479,
   "id": "3c6cae45-699c-4aef-a295-e968701b4d9d",
   "metadata": {
    "tags": []
   },
   "outputs": [],
   "source": [
    "from torch import nn"
   ]
  },
  {
   "cell_type": "code",
   "execution_count": 480,
   "id": "d42ba227-6b0a-407c-8877-4b5df9c80a04",
   "metadata": {
    "tags": []
   },
   "outputs": [],
   "source": [
    "import torch"
   ]
  },
  {
   "cell_type": "code",
   "execution_count": 481,
   "id": "101f75b9-5727-4bb9-8c47-ac2de49c463a",
   "metadata": {
    "tags": []
   },
   "outputs": [],
   "source": [
    "extreme_weight = torch.full([1], 9.0) # make the extreme sample a large weight\n",
    "loss = nn.BCEWithLogitsLoss(pos_weight=extreme_weight)"
   ]
  },
  {
   "cell_type": "code",
   "execution_count": 482,
   "id": "e3b357ca-eb2e-4a87-8e22-1b53dca9293e",
   "metadata": {
    "tags": []
   },
   "outputs": [
    {
     "name": "stderr",
     "output_type": "stream",
     "text": [
      "Global seed set to 547676994\n",
      "Global seed set to 547676994\n"
     ]
    }
   ],
   "source": [
    "model = TCNForecaster(past_seq_len=lookback, future_seq_len=horizon, input_feature_num=X.shape[-1], output_feature_num=y.shape[-1], optimizer='Adam', loss=loss, lr=1e-5)"
   ]
  },
  {
   "cell_type": "code",
   "execution_count": 483,
   "id": "252326de-62b5-4fe7-b9dd-b3e4b9137ae9",
   "metadata": {
    "tags": []
   },
   "outputs": [
    {
     "name": "stderr",
     "output_type": "stream",
     "text": [
      "GPU available: False, used: False\n",
      "TPU available: False, using: 0 TPU cores\n",
      "IPU available: False, using: 0 IPUs\n",
      "HPU available: False, using: 0 HPUs\n",
      "\n",
      "  | Name  | Type              | Params\n",
      "--------------------------------------------\n",
      "0 | model | NormalizeTSModel  | 5.8 K \n",
      "1 | loss  | BCEWithLogitsLoss | 0     \n",
      "--------------------------------------------\n",
      "5.8 K     Trainable params\n",
      "0         Non-trainable params\n",
      "5.8 K     Total params\n",
      "0.023     Total estimated model params size (MB)\n"
     ]
    },
    {
     "name": "stdout",
     "output_type": "stream",
     "text": [
      "Epoch 9: 100%|█████████████████████████████████████████████████████████████████████████████████████████████████████████████████████████████████████████████████████| 364/364 [00:02<00:00, 160.66it/s, loss=-0.381]\n"
     ]
    }
   ],
   "source": [
    "model.fit((X, y), batch_size=32, epochs=10)"
   ]
  },
  {
   "cell_type": "code",
   "execution_count": 484,
   "id": "92906ee8-82a2-4b1f-804a-e87d42c77f6d",
   "metadata": {
    "tags": []
   },
   "outputs": [],
   "source": [
    "X_valid, y_valid = valid.to_numpy()"
   ]
  },
  {
   "cell_type": "code",
   "execution_count": 485,
   "id": "f0e0dbf1-d04d-402c-88db-7feaa872b2af",
   "metadata": {
    "tags": []
   },
   "outputs": [
    {
     "data": {
      "text/plain": [
       "[array([[2.37656045],\n",
       "        [2.48855877],\n",
       "        [2.52603388],\n",
       "        [2.41299748],\n",
       "        [2.50637341],\n",
       "        [2.31654978],\n",
       "        [2.37004042],\n",
       "        [3.1620357 ],\n",
       "        [2.61699128],\n",
       "        [2.99279118],\n",
       "        [2.64626765],\n",
       "        [2.81896877],\n",
       "        [3.05098033],\n",
       "        [3.02482653],\n",
       "        [2.28404593],\n",
       "        [2.32903457],\n",
       "        [2.57361317],\n",
       "        [3.01165891],\n",
       "        [2.50645018],\n",
       "        [2.41866803],\n",
       "        [2.79207516],\n",
       "        [2.55907035],\n",
       "        [2.76336455],\n",
       "        [2.54495049],\n",
       "        [2.72754908],\n",
       "        [3.00620174],\n",
       "        [2.72314429],\n",
       "        [2.74525356],\n",
       "        [2.64182305],\n",
       "        [2.47230887],\n",
       "        [3.04297018],\n",
       "        [2.8651948 ],\n",
       "        [3.02567267],\n",
       "        [2.32424426],\n",
       "        [3.1096921 ],\n",
       "        [2.931674  ],\n",
       "        [2.39493465],\n",
       "        [2.62653184],\n",
       "        [2.63279557],\n",
       "        [2.41513467],\n",
       "        [2.50751901],\n",
       "        [2.50709653],\n",
       "        [2.89646626],\n",
       "        [2.99280572],\n",
       "        [3.04430509],\n",
       "        [3.01894689],\n",
       "        [2.34654236],\n",
       "        [2.7152977 ],\n",
       "        [2.47484541]])]"
      ]
     },
     "execution_count": 485,
     "metadata": {},
     "output_type": "execute_result"
    }
   ],
   "source": [
    "model.evaluate((X_valid, y_valid))"
   ]
  },
  {
   "cell_type": "code",
   "execution_count": 486,
   "id": "56db28c3-ba36-4f9f-a65d-232edd2c3e6e",
   "metadata": {
    "tags": []
   },
   "outputs": [],
   "source": [
    "p_valid_tcn = model.predict(X_valid)"
   ]
  },
  {
   "cell_type": "code",
   "execution_count": 487,
   "id": "198999e5-396f-456d-92c9-84416053e482",
   "metadata": {
    "tags": []
   },
   "outputs": [
    {
     "data": {
      "text/plain": [
       "array([[[-1.7823315 ],\n",
       "        [-1.6632739 ],\n",
       "        [-1.7891697 ],\n",
       "        ...,\n",
       "        [-1.3743731 ],\n",
       "        [-1.7907315 ],\n",
       "        [-1.3399616 ]],\n",
       "\n",
       "       [[-1.828185  ],\n",
       "        [-1.686733  ],\n",
       "        [-1.8145205 ],\n",
       "        ...,\n",
       "        [-1.4302921 ],\n",
       "        [-1.882281  ],\n",
       "        [-1.3689704 ]],\n",
       "\n",
       "       [[-1.797933  ],\n",
       "        [-1.6599753 ],\n",
       "        [-1.7864199 ],\n",
       "        ...,\n",
       "        [-1.3993949 ],\n",
       "        [-1.8430859 ],\n",
       "        [-1.3501348 ]],\n",
       "\n",
       "       ...,\n",
       "\n",
       "       [[-0.8728653 ],\n",
       "        [-0.83630145],\n",
       "        [-0.9505284 ],\n",
       "        ...,\n",
       "        [-0.6210322 ],\n",
       "        [-1.0658945 ],\n",
       "        [-0.7719944 ]],\n",
       "\n",
       "       [[-0.6725371 ],\n",
       "        [-0.64412546],\n",
       "        [-0.7731593 ],\n",
       "        ...,\n",
       "        [-0.47273162],\n",
       "        [-0.97671974],\n",
       "        [-0.6263826 ]],\n",
       "\n",
       "       [[ 2.949242  ],\n",
       "        [ 2.9466228 ],\n",
       "        [ 2.8194337 ],\n",
       "        ...,\n",
       "        [ 3.105813  ],\n",
       "        [ 2.5896113 ],\n",
       "        [ 2.893095  ]]], dtype=float32)"
      ]
     },
     "execution_count": 487,
     "metadata": {},
     "output_type": "execute_result"
    }
   ],
   "source": [
    "p_valid_tcn"
   ]
  },
  {
   "cell_type": "code",
   "execution_count": 488,
   "id": "c8dddea1-faa4-4fb9-9c18-aeb7389c3cc9",
   "metadata": {
    "tags": []
   },
   "outputs": [
    {
     "data": {
      "text/plain": [
       "array([[[-0.33273092],\n",
       "        [-0.33273092],\n",
       "        [-0.33273092],\n",
       "        ...,\n",
       "        [-0.33273092],\n",
       "        [-0.33273092],\n",
       "        [-0.33273092]],\n",
       "\n",
       "       [[-0.33273092],\n",
       "        [-0.33273092],\n",
       "        [-0.33273092],\n",
       "        ...,\n",
       "        [-0.33273092],\n",
       "        [-0.33273092],\n",
       "        [-0.33273092]],\n",
       "\n",
       "       [[-0.33273092],\n",
       "        [-0.33273092],\n",
       "        [-0.33273092],\n",
       "        ...,\n",
       "        [-0.33273092],\n",
       "        [-0.33273092],\n",
       "        [-0.33273092]],\n",
       "\n",
       "       ...,\n",
       "\n",
       "       [[-0.33273092],\n",
       "        [ 3.0054314 ],\n",
       "        [-0.33273092],\n",
       "        ...,\n",
       "        [-0.33273092],\n",
       "        [-0.33273092],\n",
       "        [-0.33273092]],\n",
       "\n",
       "       [[ 3.0054314 ],\n",
       "        [-0.33273092],\n",
       "        [-0.33273092],\n",
       "        ...,\n",
       "        [-0.33273092],\n",
       "        [-0.33273092],\n",
       "        [-0.33273092]],\n",
       "\n",
       "       [[-0.33273092],\n",
       "        [-0.33273092],\n",
       "        [-0.33273092],\n",
       "        ...,\n",
       "        [-0.33273092],\n",
       "        [-0.33273092],\n",
       "        [-0.33273092]]], dtype=float32)"
      ]
     },
     "execution_count": 488,
     "metadata": {},
     "output_type": "execute_result"
    }
   ],
   "source": [
    "y_valid"
   ]
  },
  {
   "cell_type": "code",
   "execution_count": 489,
   "id": "3a933927-e7d7-4926-b51b-f7b27bf30c0a",
   "metadata": {},
   "outputs": [
    {
     "data": {
      "text/plain": [
       "array([-1.3399616, -1.3689704, -1.3501348, ..., -0.7719944, -0.6263826,\n",
       "        2.893095 ], dtype=float32)"
      ]
     },
     "execution_count": 489,
     "metadata": {},
     "output_type": "execute_result"
    }
   ],
   "source": [
    "p_valid_tcn[:,:,0][:,-1]"
   ]
  },
  {
   "cell_type": "code",
   "execution_count": 490,
   "id": "9d62567a-e887-4df5-9255-82f77aec70a4",
   "metadata": {},
   "outputs": [
    {
     "data": {
      "text/plain": [
       "array([-0.33273092, -0.33273092, -0.33273092, ..., -0.33273092,\n",
       "       -0.33273092, -0.33273092], dtype=float32)"
      ]
     },
     "execution_count": 490,
     "metadata": {},
     "output_type": "execute_result"
    }
   ],
   "source": [
    "y_valid[:,:,0][:,-1]"
   ]
  },
  {
   "cell_type": "code",
   "execution_count": 491,
   "id": "7ff1509e-5fa4-4996-b223-1bde6ccf89dd",
   "metadata": {
    "tags": []
   },
   "outputs": [
    {
     "data": {
      "text/plain": [
       "Text(0, 0.5, 'Extreme')"
      ]
     },
     "execution_count": 491,
     "metadata": {},
     "output_type": "execute_result"
    },
    {
     "data": {
      "image/png": "[encoded data removed]",
      "text/plain": [
       "<Figure size 2400x600 with 1 Axes>"
      ]
     },
     "metadata": {},
     "output_type": "display_data"
    }
   ],
   "source": [
    "plt.figure(figsize=(24,6))\n",
    "plt.plot(p_valid_tcn[:,:,0][:,-1][horizon:horizon+366]) # shift horizon time steps\n",
    "plt.plot(y_valid[:,:,0][:,-1][0:365]) \n",
    "plt.legend([\"prediction (TCN)\", \"ground truth\"])\n",
    "plt.title('Extreme Precipitation on the Test Dataset (Muong Te)')\n",
    "plt.xlabel('Day')\n",
    "plt.ylabel('Extreme')"
   ]
  },
  {
   "cell_type": "code",
   "execution_count": 492,
   "id": "5c843d17-295d-4178-aa36-b43447f161bf",
   "metadata": {
    "tags": []
   },
   "outputs": [],
   "source": [
    "import numpy as np"
   ]
  },
  {
   "cell_type": "code",
   "execution_count": 493,
   "id": "c7b98b31-98bc-4dde-a090-5a562bb46a4c",
   "metadata": {
    "tags": []
   },
   "outputs": [],
   "source": [
    "def classify(p, epsilon=0.5):\n",
    "    score = 1 / (1 + np.exp(-p))\n",
    "    if score >= epsilon:\n",
    "        return 1.0\n",
    "    else:\n",
    "        return 0.0"
   ]
  },
  {
   "cell_type": "code",
   "execution_count": 494,
   "id": "c5b474ce-e2c8-44c4-8212-914f65a83aa9",
   "metadata": {
    "tags": []
   },
   "outputs": [],
   "source": [
    "y_v = valid.unscale_numpy(y_valid)[:,:,0][:,-1][:-horizon]"
   ]
  },
  {
   "cell_type": "code",
   "execution_count": 495,
   "id": "67140b44-669f-434f-832e-021cc3157521",
   "metadata": {},
   "outputs": [
    {
     "data": {
      "text/plain": [
       "147.0"
      ]
     },
     "execution_count": 495,
     "metadata": {},
     "output_type": "execute_result"
    }
   ],
   "source": [
    "sum(y_v)"
   ]
  },
  {
   "cell_type": "code",
   "execution_count": 496,
   "id": "0813142d-a3d5-48a8-94c1-b32cdef29f84",
   "metadata": {
    "tags": []
   },
   "outputs": [],
   "source": [
    "z_v_tcn = [classify(p) for p in p_valid_tcn[:,:,0][:,-1]][horizon:]"
   ]
  },
  {
   "cell_type": "code",
   "execution_count": 497,
   "id": "b689bb41-53fa-4332-81e2-d0a26e3790c2",
   "metadata": {},
   "outputs": [
    {
     "data": {
      "text/plain": [
       "147.0"
      ]
     },
     "execution_count": 497,
     "metadata": {},
     "output_type": "execute_result"
    }
   ],
   "source": [
    "sum(z_v_tcn)"
   ]
  },
  {
   "cell_type": "code",
   "execution_count": 498,
   "id": "4a05c587-03e5-4bc4-a3a0-4122637b9854",
   "metadata": {
    "tags": []
   },
   "outputs": [],
   "source": [
    "import sklearn\n",
    "import sklearn.metrics"
   ]
  },
  {
   "cell_type": "code",
   "execution_count": 499,
   "id": "5c4eca72-15c7-481a-8d57-027f425edddc",
   "metadata": {
    "tags": []
   },
   "outputs": [
    {
     "data": {
      "text/plain": [
       "1.0"
      ]
     },
     "execution_count": 499,
     "metadata": {},
     "output_type": "execute_result"
    }
   ],
   "source": [
    "# AUC score\n",
    "fpr, tpr, thresholds = sklearn.metrics.roc_curve(y_v, z_v_tcn)\n",
    "sklearn.metrics.auc(fpr, tpr)"
   ]
  },
  {
   "cell_type": "code",
   "execution_count": 500,
   "id": "0bb575d1-41ff-4d39-8836-9a7c3be80ba6",
   "metadata": {
    "tags": []
   },
   "outputs": [
    {
     "name": "stdout",
     "output_type": "stream",
     "text": [
      "              precision    recall  f1-score   support\n",
      "\n",
      "         0.0       1.00      1.00      1.00      1210\n",
      "         1.0       1.00      1.00      1.00       147\n",
      "\n",
      "    accuracy                           1.00      1357\n",
      "   macro avg       1.00      1.00      1.00      1357\n",
      "weighted avg       1.00      1.00      1.00      1357\n",
      "\n"
     ]
    }
   ],
   "source": [
    "print(sklearn.metrics.classification_report(y_v, z_v_tcn))"
   ]
  },
  {
   "cell_type": "code",
   "execution_count": null,
   "id": "14fc48be-0331-4a96-befd-ca6b6e81da72",
   "metadata": {},
   "outputs": [],
   "source": []
  }
 ],
 "metadata": {
  "kernelspec": {
   "display_name": "Python 3 (ipykernel)",
   "language": "python",
   "name": "python3"
  },
  "language_info": {
   "codemirror_mode": {
    "name": "ipython",
    "version": 3
   },
   "file_extension": ".py",
   "mimetype": "text/x-python",
   "name": "python",
   "nbconvert_exporter": "python",
   "pygments_lexer": "ipython3",
   "version": "3.8.18"
  }
 },
 "nbformat": 4,
 "nbformat_minor": 5
}
