{
 "cells": [
  {
   "cell_type": "code",
   "execution_count": 22,
   "metadata": {},
   "outputs": [],
   "source": [
    "import json\n",
    "from torch.utils.data import DataLoader, Dataset"
   ]
  },
  {
   "cell_type": "code",
   "execution_count": 16,
   "metadata": {},
   "outputs": [],
   "source": [
    "path = \"/home/phuonglh/vlp/dat/nli/XNLI-1.0/vi.tok.jsonl\""
   ]
  },
  {
   "cell_type": "code",
   "execution_count": 24,
   "metadata": {},
   "outputs": [],
   "source": [
    "class VietnameseXNLI(Dataset):\n",
    "  def __init__(self, jsonlPath):\n",
    "    self.X = []\n",
    "    self.y = []\n",
    "    with open(jsonlPath) as f:\n",
    "      for line in f:\n",
    "        sample = json.loads(line)\n",
    "        self.X.append((sample[\"sentence1_tokenized\"], sample[\"sentence2_tokenized\"]))\n",
    "        self.y.append(sample[\"gold_label\"])\n",
    "  \n",
    "  def __len__(self):\n",
    "    return len(self.y)\n",
    "  \n",
    "  def __getitem__(self, i):\n",
    "    return self.X[i], self.y[i]\n"
   ]
  },
  {
   "cell_type": "code",
   "execution_count": 25,
   "metadata": {},
   "outputs": [],
   "source": [
    "dataset = VietnameseXNLI(path)"
   ]
  },
  {
   "cell_type": "code",
   "execution_count": 27,
   "metadata": {},
   "outputs": [
    {
     "data": {
      "text/plain": [
       "7500"
      ]
     },
     "execution_count": 27,
     "metadata": {},
     "output_type": "execute_result"
    }
   ],
   "source": [
    "len(dataset)"
   ]
  },
  {
   "cell_type": "code",
   "execution_count": 28,
   "metadata": {},
   "outputs": [],
   "source": [
    "dataloader = DataLoader(dataset, batch_size=32)"
   ]
  },
  {
   "cell_type": "code",
   "execution_count": 30,
   "metadata": {},
   "outputs": [
    {
     "data": {
      "text/plain": [
       "235"
      ]
     },
     "execution_count": 30,
     "metadata": {},
     "output_type": "execute_result"
    }
   ],
   "source": [
    "len(dataloader)"
   ]
  },
  {
   "cell_type": "code",
   "execution_count": 32,
   "metadata": {},
   "outputs": [
    {
     "data": {
      "text/plain": [
       "[[('Và anh_ấy nói , Mẹ , con đã về nhà .',\n",
       "   'Và anh_ấy nói , Mẹ , con đã về nhà .',\n",
       "   'Và anh_ấy nói , Mẹ , con đã về nhà .',\n",
       "   'Tôi đã không biết mình đang hướng tới mục_đích gì , ngay cả việc báo_cáo cho một địa_chỉ cho trước ở Washington .',\n",
       "   'Tôi đã không biết mình đang hướng tới mục_đích gì , ngay cả việc báo_cáo cho một địa_chỉ cho trước ở Washington .',\n",
       "   'Tôi đã không biết mình đang hướng tới mục_đích gì , ngay cả việc báo_cáo cho một địa_chỉ cho trước ở Washington .',\n",
       "   'Anh_ấy không cần phải bắt_đầu .',\n",
       "   'Anh_ấy không cần phải bắt_đầu .',\n",
       "   'Anh_ấy không cần phải bắt_đầu .',\n",
       "   'Và tôi giống như ỔN , và đó là thế !',\n",
       "   'Và tôi giống như ỔN , và đó là thế !',\n",
       "   'Và tôi giống như ỔN , và đó là thế !',\n",
       "   'Tôi chỉ ở nguyên đó , cố_gắng hình_dung ra vấn_đề .',\n",
       "   'Tôi chỉ ở nguyên đó , cố_gắng hình_dung ra vấn_đề .',\n",
       "   'Tôi chỉ ở nguyên đó , cố_gắng hình_dung ra vấn_đề .',\n",
       "   'Và , ừ , họ thực_sự đã dừng lại chuyến thăm gia_đình bởi_vì họ chỉ , chỉ cần xác_định rằng họ sẽ trở_nên trắng .',\n",
       "   'Và , ừ , họ thực_sự đã dừng lại chuyến thăm gia_đình bởi_vì họ chỉ , chỉ cần xác_định rằng họ sẽ trở_nên trắng .',\n",
       "   'Và , ừ , họ thực_sự đã dừng lại chuyến thăm gia_đình bởi_vì họ chỉ , chỉ cần xác_định rằng họ sẽ trở_nên trắng .',\n",
       "   'Và_Bà thường kể câu_chuyện về việc chị_gái của bà và người chồng đã quyết_định sẽ chuyển đến thành_phố Augusta và chuyển sang màu trắng .',\n",
       "   'Và_Bà thường kể câu_chuyện về việc chị_gái của bà và người chồng đã quyết_định sẽ chuyển đến thành_phố Augusta và chuyển sang màu trắng .',\n",
       "   'Và_Bà thường kể câu_chuyện về việc chị_gái của bà và người chồng đã quyết_định sẽ chuyển đến thành_phố Augusta và chuyển sang màu trắng .',\n",
       "   'Michael_Santo , của Firewell và Company , của Buffalo , NY , họ là một trong những nhà_sản_xuất , uh , đã phát_minh ra_bộ điều_chỉnh O 2 trước khi họ chế_tạo điều_khiển hỏa_lực trên bếp lò .',\n",
       "   'Michael_Santo , của Firewell và Company , của Buffalo , NY , họ là một trong những nhà_sản_xuất , uh , đã phát_minh ra_bộ điều_chỉnh O 2 trước khi họ chế_tạo điều_khiển hỏa_lực trên bếp lò .',\n",
       "   'Michael_Santo , của Firewell và Company , của Buffalo , NY , họ là một trong những nhà_sản_xuất , uh , đã phát_minh ra_bộ điều_chỉnh O 2 trước khi họ chế_tạo điều_khiển hỏa_lực trên bếp lò .',\n",
       "   'Nhưng anh_ta , bạn biết đấy , theo nhiều cách , giống như một người con_trai của chủ đồn_điền bởi_vì anh_ta là con_trai của người đàn_ông sở_hữu rất nhiều tài_sản này .',\n",
       "   'Nhưng anh_ta , bạn biết đấy , theo nhiều cách , giống như một người con_trai của chủ đồn_điền bởi_vì anh_ta là con_trai của người đàn_ông sở_hữu rất nhiều tài_sản này .',\n",
       "   'Nhưng anh_ta , bạn biết đấy , theo nhiều cách , giống như một người con_trai của chủ đồn_điền bởi_vì anh_ta là con_trai của người đàn_ông sở_hữu rất nhiều tài_sản này .',\n",
       "   'Nhưng công_việc của tôi là đặt dù trên đó và bảo_vệ cuộc_sống khi chúng_tôi tải nó và bắt_đầu đi tới một địa_điểm ở nước_ngoài .',\n",
       "   'Nhưng công_việc của tôi là đặt dù trên đó và bảo_vệ cuộc_sống khi chúng_tôi tải nó và bắt_đầu đi tới một địa_điểm ở nước_ngoài .',\n",
       "   'Nhưng công_việc của tôi là đặt dù trên đó và bảo_vệ cuộc_sống khi chúng_tôi tải nó và bắt_đầu đi tới một địa_điểm ở nước_ngoài .',\n",
       "   'Bây_giờ đó là cách , uh , tôi ở lại .',\n",
       "   'Bây_giờ đó là cách , uh , tôi ở lại .'),\n",
       "  ('Ngay khi xuống xe_buýt của trường , anh_ấy gọi cho mẹ .',\n",
       "   'Anh không nói một lời nào .',\n",
       "   'Anh nói với mẹ rằng anh đã về nhà .',\n",
       "   'Tôi chưa bao_giờ đến Washington nên khi tôi được chỉ_định ở đó tôi bị lạc cố_gắng tìm nơi đó .',\n",
       "   'Tôi biết chính_xác những gì tôi cần làm khi tôi hành_quân đến Washington .',\n",
       "   'Tôi đã không hoàn_toàn chắc_chắn những gì tôi sẽ làm như_vậy tôi đã đi đến Washington , nơi tôi được giao để báo_cáo .',\n",
       "   'Anh là người đầu_tiên được mời và tận_hưởng trải_nghiệm .',\n",
       "   'Anh_ta không được phép tham_dự .',\n",
       "   'Anh_ta không được phép đến buổi khai_trương bảo_tàng .',\n",
       "   'Sau khi tôi nói có , nó đã kết_thúc .',\n",
       "   'Tôi nói không và nó kéo_dài mãi .',\n",
       "   'Khi tôi nói có , chúng_tôi quyết_định rằng chúng_tôi sẽ kết_hôn vào ngày hôm đó .',\n",
       "   'Tôi hiểu nó ngay từ đầu .',\n",
       "   'Tôi đã cố_gắng để hiểu nơi tiền đi .',\n",
       "   'Tôi đã cố hiểu .',\n",
       "   'Họ tiếp_tục đến thăm mỗi ngày .',\n",
       "   'Họ không còn tới thăm gia_đình nữa',\n",
       "   'Họ dừng lại thăm gia_đình khi căng_thẳng chủng_tộc bắt_đầu .',\n",
       "   'Chị của Granny là người da trắng và chuyển đến Texas .',\n",
       "   'Em_gái của Granny không phải là người da trắng .',\n",
       "   'Em_gái của Granny không phải là người da trắng nhưng cô ấy muốn vậy để có_thể đi học .',\n",
       "   'Santo sống ở New_York và làm_việc trên bộ điều_chỉnh O 2 cao .',\n",
       "   'Santo chuyên về an_toàn vì nó là một vấn_đề rất đáng yêu đối_với anh .',\n",
       "   'Santo làm_việc cho Disney và điều_hành tách trà .',\n",
       "   'Bố anh chưa bao_giờ sở_hữu bất_cứ thứ gì trong cuộc_đời ông_ta .',\n",
       "   'Bố anh sở_hữu 2000 mẫu đất nông_nghiệp .',\n",
       "   'Bố anh_ta sở_hữu rất nhiều tài_sản .',\n",
       "   'Tôi không có việc làm_nên tôi chỉ giữ tất_cả các hộp ở nhà .',\n",
       "   'Tôi đã gửi những chiếc hộp đến Nhật_Bản .',\n",
       "   'Tôi đã vận_chuyển chúng .',\n",
       "   'Tôi đảm_bảo rằng đã khóa đã chặt_chẽ vì_vậy tôi sẽ được an_toàn .',\n",
       "   'Đó chính_xác là cách tôi chưa được khám_phá .')],\n",
       " ('neutral',\n",
       "  'contradiction',\n",
       "  'entailment',\n",
       "  'neutral',\n",
       "  'contradiction',\n",
       "  'entailment',\n",
       "  'contradiction',\n",
       "  'entailment',\n",
       "  'neutral',\n",
       "  'entailment',\n",
       "  'contradiction',\n",
       "  'neutral',\n",
       "  'contradiction',\n",
       "  'neutral',\n",
       "  'entailment',\n",
       "  'contradiction',\n",
       "  'entailment',\n",
       "  'neutral',\n",
       "  'contradiction',\n",
       "  'entailment',\n",
       "  'neutral',\n",
       "  'entailment',\n",
       "  'neutral',\n",
       "  'contradiction',\n",
       "  'contradiction',\n",
       "  'neutral',\n",
       "  'entailment',\n",
       "  'contradiction',\n",
       "  'neutral',\n",
       "  'entailment',\n",
       "  'neutral',\n",
       "  'contradiction')]"
      ]
     },
     "execution_count": 32,
     "metadata": {},
     "output_type": "execute_result"
    }
   ],
   "source": [
    "next(iter(dataloader))"
   ]
  },
  {
   "cell_type": "code",
   "execution_count": null,
   "metadata": {},
   "outputs": [],
   "source": []
  }
 ],
 "metadata": {
  "interpreter": {
   "hash": "e7370f93d1d0cde622a1f8e1c04877d8463912d04d973331ad4851f04de6915a"
  },
  "kernelspec": {
   "display_name": "Python 3.10.3 64-bit",
   "language": "python",
   "name": "python3"
  },
  "language_info": {
   "codemirror_mode": {
    "name": "ipython",
    "version": 3
   },
   "file_extension": ".py",
   "mimetype": "text/x-python",
   "name": "python",
   "nbconvert_exporter": "python",
   "pygments_lexer": "ipython3",
   "version": "3.10.3"
  },
  "orig_nbformat": 4
 },
 "nbformat": 4,
 "nbformat_minor": 2
}
